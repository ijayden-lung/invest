{
 "cells": [
  {
   "cell_type": "code",
   "execution_count": 3,
   "id": "18ca84dd-eca7-4f05-816f-a6b2245ec2a5",
   "metadata": {},
   "outputs": [],
   "source": [
    "# -*- coding:utf-8 -*-\n",
    "import json\n",
    "import requests\n",
    "import csv\n",
    "import re\n",
    "from lxml import etree\n",
    "from datetime import date,datetime\n",
    "import pandas as pd\n",
    "import math\n",
    "from copy import deepcopy\n",
    "import numpy as np\n",
    "import matplotlib.pyplot as plt"
   ]
  },
  {
   "cell_type": "code",
   "execution_count": 2,
   "id": "74b3afe7-774f-48ae-84a3-824cc4659416",
   "metadata": {},
   "outputs": [
    {
     "ename": "IndentationError",
     "evalue": "expected an indented block (<ipython-input-2-46c5582bbdca>, line 4)",
     "output_type": "error",
     "traceback": [
      "\u001b[0;36m  File \u001b[0;32m\"<ipython-input-2-46c5582bbdca>\"\u001b[0;36m, line \u001b[0;32m4\u001b[0m\n\u001b[0;31m    f = open('CB_interest_rate.test.csv', 'w', encoding='utf-8', newline='')\u001b[0m\n\u001b[0m    ^\u001b[0m\n\u001b[0;31mIndentationError\u001b[0m\u001b[0;31m:\u001b[0m expected an indented block\n"
     ]
    }
   ],
   "source": [
    "def save_interest_rate(data):\n",
    "\n",
    "# 1. 创建文件对象\n",
    "f = open('CB_interest_rate.test.csv', 'w', encoding='utf-8', newline='')\n",
    "# 2. 基于文件对象构建 csv写入对象\n",
    "csv_writer = csv.writer(f)\n",
    "# 3. 构建列表头\n",
    "csv_writer.writerow([\"id\",\"iry1\", \"iry2\", \"iry3\", \"iry4\", \"iry5\", \"iry6\"])\n",
    "\n",
    "count = 0\n",
    "for item in data:\n",
    "count +=1\n",
    "if (count %10 == 0):\n",
    "print(\"processing \"+str(count)+\" items\")\n",
    "try:\n",
    "interest = get_interest_rate(item['id'])\n",
    "interest = [item['id']]+interest\n",
    "csv_writer.writerow(interest)\n",
    "except Exception as e:\n",
    "print(\"Oops!\", e.__class__, \"occurred.\")\n",
    "print(\"The error happed at \"+item['id'])\n",
    "# 5. 关闭文件\n",
    "print(\"Finished processing \"+str(count)+\" items\")\n",
    "f.close()\n"
   ]
  },
  {
   "cell_type": "code",
   "execution_count": null,
   "id": "adbe97df-108c-4572-ba95-e1cec8d29011",
   "metadata": {},
   "outputs": [],
   "source": [
    "def get_interest_rate(id):\n",
    "years = 6\n",
    "detials_url = 'https://www.jisilu.cn/data/convert_bond_detail/'+id\n",
    "detials_response = requests.get(detials_url)\n",
    "html = detials_response.content.decode(\"utf-8\")\n",
    "html = etree.HTML(html)\n",
    "interest_text = html.xpath('.//td[@id=\"cpn_desc\"]/text()')\n",
    "if(not interest_text[0].find('%')):\n",
    "print(\" not in interest test %s %s\"%(id,interest_text))\n",
    "pattern = re.compile(r'(?<!\\d|\\.)\\d+(?:\\.\\d+)?')  #get proper format number\n",
    "else:\n",
    "pattern = re.compile(r'(?<!\\d|\\.)\\d+(?:\\.\\d+)?\\s?%')  #get proper format number\n",
    "interest = pattern.findall(interest_text[0])\n",
    "if(len(interest) <= 1):\n",
    "print(\"%s fixed interest rate %s\"%(id, interest_text[0]))\n",
    "interest = interest*years\n",
    "elif(len(interest)<5):\n",
    "print(\"%s number of interest rate between 2-4 %s\"%(id, interest_text[0]))\n",
    "print(\"You may need to check manually\")\n",
    "elif(len(interest)>6):\n",
    "print(\"%s number of interest rate greater than 6 %s\"%(id, interest_text[0]))\n",
    "print(\"You may need to check manually\")\n",
    "interest = [rate.strip(\"%\") for rate in interest]\n",
    "return interest"
   ]
  },
  {
   "cell_type": "code",
   "execution_count": null,
   "id": "a63617f8-bc5a-4959-84c3-f97892d2e324",
   "metadata": {
    "tags": []
   },
   "outputs": [],
   "source": [
    "def get_dat():\n",
    "# Fill in your details here to be posted to the login form.\n",
    "payload = {\n",
    "'user_name': 'a39856ed4377d1b92cffb0677febf5b8',\n",
    "'password': 'ca5572b5ffe8c33746727709bc7d6c6f'\n",
    "}\n",
    "headers = {\n",
    "\"User-Agent\": \"Mozilla/5.0 (Macintosh; Intel Mac OS X 10_15_3) AppleWebKit/537.36 (KHTML, like Gecko) Chrome/91.0.4472.114 Safari/537.36\",\n",
    "#\"User-agent\": \"Mozilla/5.0 (X11; Linux x86_64) AppleWebKit/537.36 (KHTML, like Gecko) Chrome/51.0.2704.106 Safari/537.36 OPR/38.0.2220.41\",\n",
    "\"Cookie\": \"kbzw__Session=l313fggdcjpnd7eineqilm6lf4; kbz_newcookie=1; kbzw_r_uname=ijayden; Hm_lvt_164fe01b1433a19b507595a43bf58262=1627073048,1627079966,1627115858,1627117055; Hm_lpvt_164fe01b1433a19b507595a43bf58262=1627118717\"\n",
    "}\n",
    "loginUrl=\"https://www.jisilu.cn/account/ajax/login_process/\"\n",
    "r = requests.post(loginUrl,data=payload)\n",
    "\n",
    "newUrl =\"https://www.jisilu.cn/data/cbnew/cb_list/?___jsl=LST___t=1584777951900\"\n",
    "#最简单的爬虫请求.也可以加上headers字段，防止部分网址的反爬虫机制\n",
    "response = requests.get(newUrl,cookies=r.cookies)\n",
    "data = response.content.decode(\"utf-8\")\n",
    "dat = json.loads(data)\n",
    "\n",
    "# 所有数据\n",
    "lst_data = []\n",
    "count = 0\n",
    "for one in dat['rows']:\n",
    "# 每一条数据\n",
    "lst_dat = dict()\n",
    "# 转债id\n",
    "id = one[\"id\"]\n",
    "dat_cell = one[\"cell\"]\n",
    "# 是否赎回\n",
    "is_force_redeem = dat_cell['redeem_flag']\n",
    "is_list = dat_cell['price_tips']\n",
    "\n",
    "if is_list != \"待上市\":\n",
    "\n",
    "count += 1\n",
    "if (count %100 == 0):\n",
    "print(\"processing \"+str(count)+\" items\")\n",
    "\n",
    "# 转债名称\n",
    "name = dat_cell['bond_nm']\n",
    "# 现价\n",
    "price = dat_cell['price']\n",
    "# stock id\n",
    "stock_id = dat_cell['stock_id']\n",
    "stock_id = stock_id.replace(\"sh\", \"ss\")\n",
    "stock_id = stock_id[2:]+\".\"+stock_id[0:2]\n",
    "# stock name\n",
    "stock_nm = dat_cell['stock_nm']\n",
    "# 溢价率\n",
    "premium_rt = dat_cell['premium_rt']\n",
    "# 评级\n",
    "rating_cd = dat_cell['rating_cd']\n",
    "\n",
    "\n",
    "# next put date\n",
    "next_put_dt = dat_cell['next_put_dt']\n",
    "# put price\n",
    "put_price   = dat_cell['put_price']\n",
    "# 回售触发价\n",
    "put_convert_price = dat_cell['put_convert_price']\n",
    "\n",
    "\n",
    "# maturity date\n",
    "maturity_dt = dat_cell['maturity_dt']\n",
    "# redeem price\n",
    "redeem_price = dat_cell['redeem_price']\n",
    "\n",
    "# 强赎触发价\n",
    "redeem_dt = dat_cell['redeem_dt']\n",
    "force_redeem_price = dat_cell['force_redeem_price']\n",
    "# 剩余时间\n",
    "last_time = dat_cell['year_left']\n",
    "pb = dat_cell['pb']\n",
    "\n",
    "\n",
    "#lst_dat.append(id)\n",
    "lst_dat['id'] = id\n",
    "lst_dat['name'] = name\n",
    "lst_dat['stock_id'] = stock_id\n",
    "lst_dat['stock_name'] = stock_nm\n",
    "lst_dat['price'] = float(price)\n",
    "lst_dat['convert_value'] = float(dat_cell['convert_value'])\n",
    "lst_dat['premium_rt'] = premium_rt\n",
    "lst_dat['rating_cd'] = rating_cd\n",
    "lst_dat['pb']  = pb\n",
    "lst_dat['convert_amt_ratio'] = dat_cell['convert_amt_ratio']\n",
    "lst_dat['convert_amt_ratio2'] = dat_cell['convert_amt_ratio2']\n",
    "\n",
    "\n",
    "\n",
    "lst_dat['next_put_dt'] = next_put_dt\n",
    "lst_dat['put_price'] = put_price\n",
    "lst_dat['put_convert_price'] = put_convert_price\n",
    "\n",
    "lst_dat['maturity_dt'] = maturity_dt\n",
    "lst_dat['redeem_price'] = redeem_price\n",
    "lst_dat['last_time'] = last_time\n",
    "lst_dat['force_redeem'] = is_force_redeem\n",
    "\n",
    "lst_dat['redeem_dt']  = redeem_dt\n",
    "lst_dat['force_redeem_price'] = force_redeem_price\n",
    "\n",
    "  \n",
    "lst_data.append(lst_dat)\n",
    "\n",
    "else:\n",
    "continue\n",
    "print(\"Finished processing \"+str(count)+\" items\")\n",
    "\n",
    "return lst_data"
   ]
  },
  {
   "cell_type": "code",
   "execution_count": null,
   "id": "72feca02-4d48-4719-8d40-84155b9df71c",
   "metadata": {},
   "outputs": [],
   "source": [
    "interest = html.xpath('.//td[@id=\"cpn_desc\"]/text()')\n",
    "interest"
   ]
  },
  {
   "cell_type": "code",
   "execution_count": null,
   "id": "d4eeaffb-c134-46a0-8282-524056e29d42",
   "metadata": {},
   "outputs": [],
   "source": [
    "cb1 = get_interest_rate('113049')"
   ]
  },
  {
   "cell_type": "code",
   "execution_count": null,
   "id": "dc3c56ed-10a8-4ba3-89ac-e9c81edd4907",
   "metadata": {},
   "outputs": [],
   "source": [
    "cb1"
   ]
  },
  {
   "cell_type": "code",
   "execution_count": null,
   "id": "0568acf5-3c14-4b80-8ad8-456994e3700c",
   "metadata": {},
   "outputs": [],
   "source": [
    "cb2 = get_interest_rate('120003')"
   ]
  },
  {
   "cell_type": "code",
   "execution_count": null,
   "id": "660840fd-b15c-424f-839d-71ed0e384b79",
   "metadata": {},
   "outputs": [],
   "source": [
    "cb3 = get_interest_rate('132018')"
   ]
  },
  {
   "cell_type": "code",
   "execution_count": null,
   "id": "07e18de9-9919-42bc-962b-0955d920e23f",
   "metadata": {},
   "outputs": [],
   "source": [
    "cb4 = get_interest_rate('128125')"
   ]
  },
  {
   "cell_type": "code",
   "execution_count": null,
   "id": "198fd262-8c28-48e4-bb0b-27561c0d27ef",
   "metadata": {},
   "outputs": [],
   "source": [
    "re.findall(r'(?<!\\d|\\.)\\d+(?:\\.\\d+)%', cb4[0])"
   ]
  },
  {
   "cell_type": "code",
   "execution_count": null,
   "id": "5f6e7eda-ddbf-4789-b815-13fd9032abda",
   "metadata": {},
   "outputs": [],
   "source": [
    "re.findall(r'(?<!\\d|\\.)\\d+(?:\\.\\d+)%', cb3[0])"
   ]
  },
  {
   "cell_type": "code",
   "execution_count": null,
   "id": "1c8e70f4-88d9-47b2-8cf9-ec2b167639a9",
   "metadata": {},
   "outputs": [],
   "source": [
    "re.findall(r'(?<!\\d|\\.)\\d+(?:\\.\\d+)%', cb2[0])"
   ]
  },
  {
   "cell_type": "code",
   "execution_count": null,
   "id": "a867bb69-4ae4-415a-acc1-67b09002a4ea",
   "metadata": {},
   "outputs": [],
   "source": [
    "re.findall(r'(?<!\\d|\\.)\\d+(?:\\.\\d+)%', cb1[0])"
   ]
  },
  {
   "cell_type": "code",
   "execution_count": null,
   "id": "7d9f4efc-0951-4f87-8736-7a89b2459734",
   "metadata": {
    "tags": []
   },
   "outputs": [],
   "source": [
    "#data = get_dat()\n",
    "save_interest_rate(data)"
   ]
  },
  {
   "cell_type": "code",
   "execution_count": null,
   "id": "ac8b344f-fb76-4bf7-bb35-952c560afc49",
   "metadata": {},
   "outputs": [],
   "source": [
    "get_interest_rate('113569')"
   ]
  },
  {
   "cell_type": "code",
   "execution_count": null,
   "id": "494eca36-9838-4a1a-ba76-1b5a7fef797c",
   "metadata": {},
   "outputs": [],
   "source": [
    "detials_url = 'https://www.jisilu.cn/data/convert_bond_detail/'+'127035'\n",
    "detials_response = requests.get(detials_url)\n",
    "html = detials_response.content.decode(\"utf-8\")\n",
    "html = etree.HTML(html)\n",
    "interest_text = html.xpath('.//td[@id=\"cpn_desc\"]/text()')"
   ]
  },
  {
   "cell_type": "code",
   "execution_count": null,
   "id": "6455532d-a62f-4d27-9f01-0204419e1b75",
   "metadata": {},
   "outputs": [],
   "source": [
    "pattern = re.compile(r'(?<!\\d|\\.)\\d+(?:\\.\\d+)?\\s?%')  #get proper format number\n",
    "interest = pattern.findall(interest_text[0])\n",
    "interest"
   ]
  },
  {
   "cell_type": "code",
   "execution_count": null,
   "id": "a44ced86-4604-4fcf-acc8-f62a6be24afb",
   "metadata": {},
   "outputs": [],
   "source": [
    "interest2 = [rate.strip(\"?\\s%\") for rate in interest]\n",
    "interest2"
   ]
  },
  {
   "cell_type": "code",
   "execution_count": null,
   "id": "6ee8149b-b307-4df5-a4fa-fe177557fcdc",
   "metadata": {},
   "outputs": [],
   "source": [
    "pattern = re.compile(r'(?<!\\d|\\.)\\d+(?:\\.\\d+)?')  #get proper format number\n",
    "interest2 = pattern.findall(interest_text[0])\n",
    "interest2"
   ]
  },
  {
   "cell_type": "code",
   "execution_count": null,
   "id": "a3eb8d0c-30aa-4691-838e-9db15130a0ca",
   "metadata": {},
   "outputs": [],
   "source": [
    "# Fill in your details here to be posted to the login form.\n",
    "payload = {\n",
    "'user_name': 'a39856ed4377d1b92cffb0677febf5b8',\n",
    "'password': 'ca5572b5ffe8c33746727709bc7d6c6f'\n",
    "}\n",
    "headers = {\n",
    "\"User-Agent\": \"Mozilla/5.0 (Macintosh; Intel Mac OS X 10_15_3) AppleWebKit/537.36 (KHTML, like Gecko) Chrome/91.0.4472.114 Safari/537.36\",\n",
    "#\"User-agent\": \"Mozilla/5.0 (X11; Linux x86_64) AppleWebKit/537.36 (KHTML, like Gecko) Chrome/51.0.2704.106 Safari/537.36 OPR/38.0.2220.41\",\n",
    "\"Cookie\": \"kbzw__Session=l313fggdcjpnd7eineqilm6lf4; kbz_newcookie=1; kbzw_r_uname=ijayden; Hm_lvt_164fe01b1433a19b507595a43bf58262=1627073048,1627079966,1627115858,1627117055; Hm_lpvt_164fe01b1433a19b507595a43bf58262=1627118717\"\n",
    "}\n",
    "loginUrl=\"https://www.jisilu.cn/account/ajax/login_process/\"\n",
    "r = requests.post(loginUrl,data=payload)\n",
    "\n",
    "newUrl =\"https://www.jisilu.cn/data/cbnew/cb_list/?___jsl=LST___t=1584777951900\"\n",
    "#最简单的爬虫请求.也可以加上headers字段，防止部分网址的反爬虫机制\n",
    "response = requests.get(newUrl,cookies=r.cookies)\n",
    "data = response.content.decode(\"utf-8\")\n",
    "dat = json.loads(data)"
   ]
  },
  {
   "cell_type": "code",
   "execution_count": null,
   "id": "6c51d12b-02df-4e3c-a948-9a79cd85746b",
   "metadata": {},
   "outputs": [],
   "source": [
    "import numpy as np\n",
    "from scipy.optimize import curve_fit\n",
    "import matplotlib.pyplot as plt\n",
    "import scipy.stats as stats\n",
    "from mpl_toolkits.mplot3d import Axes3D\n",
    "def func1(x, a, b, c, d):\n",
    "    r =  a * np.exp(-((x[0] - b) ** 2 + (x[1] - d) ** 2) / (2 * c ** 2))\n",
    "    return r.ravel()\n",
    "\n",
    "# 生成原始数据\n",
    "x1 = np.linspace(0, 10, 10).reshape(1, -1)\n",
    "x2 = np.linspace(0, 10, 10).reshape(1, -1)\n",
    "x = np.append(x1, x2, axis=0)\n",
    "X, Y = np.meshgrid(x1, x2)\n",
    "XX = np.expand_dims(X, 0)\n",
    "YY = np.expand_dims(Y, 0)\n",
    "xx = np.append(XX, YY, axis=0)\n",
    "y = func1(xx, 10, 5, 2, 5)\n",
    "# 对原始数据增加噪声\n",
    "yn = y + 0.002 * np.random.normal(size=xx.shape[1] * xx.shape[2])\n",
    "\n",
    "# 使用curve_fit函数拟合噪声数据\n",
    "popt, pcov = curve_fit(func1, xx, yn)\n",
    "\n",
    "# popt返回最拟合给定的函数模型func的参数值\n",
    "print(popt)\n",
    "\n",
    "fig = plt.figure('拟合图')\n",
    "ax = Axes3D(fig)\n",
    "X, Y = np.meshgrid(x1, x2)\n",
    "XX = np.expand_dims(X, 0)\n",
    "YY = np.expand_dims(Y, 0)\n",
    "xx = np.append(XX, YY, axis=0)\n",
    "R = func1(xx, *popt)\n",
    "# R, _ = np.meshgrid(R, x1)\n",
    "# y = func1(xx, 10, 5, 2, 5)\n",
    "# # 对原始数据增加噪声\n",
    "# yn = y = 0.002 * np.random.normal(size=xx.shape[1] * xx.shape[2])\n",
    "R = R.reshape(10, 10)\n",
    "yn = yn.reshape(10, 10)\n",
    "ax.plot_surface(X, Y, R, rstride=1, cstride=1, cmap='rainbow')\n",
    "ax.plot_surface(X, Y, yn, rstride=1, cstride=1, color='red')\n",
    "\n",
    "plt.show()"
   ]
  },
  {
   "cell_type": "code",
   "execution_count": null,
   "id": "f8d12ffd-224d-44be-bae7-b544bebcb6bc",
   "metadata": {},
   "outputs": [],
   "source": [
    "x[0]"
   ]
  },
  {
   "cell_type": "code",
   "execution_count": null,
   "id": "8057c462-3973-4aba-a140-8b2cb74e9162",
   "metadata": {},
   "outputs": [],
   "source": [
    "x[1]"
   ]
  },
  {
   "cell_type": "code",
   "execution_count": null,
   "id": "63474449-2603-4eb7-b8b0-ea37d863ad58",
   "metadata": {},
   "outputs": [],
   "source": [
    "x.shape"
   ]
  },
  {
   "cell_type": "code",
   "execution_count": null,
   "id": "cf61a026-bdcc-40a4-875b-583b63e335cf",
   "metadata": {},
   "outputs": [],
   "source": [
    "yn.shape"
   ]
  },
  {
   "cell_type": "code",
   "execution_count": null,
   "id": "12a81b60-047d-453c-ab5e-5597f38dbba3",
   "metadata": {},
   "outputs": [],
   "source": [
    "y"
   ]
  },
  {
   "cell_type": "code",
   "execution_count": null,
   "id": "d4bd96ef-e575-430b-b240-7cf101bc44eb",
   "metadata": {},
   "outputs": [],
   "source": [
    "x = np.linspace(0,6)\n",
    "y1 = x**0.5\n",
    "y2 = x**0.25\n",
    "y3 = x**0.1"
   ]
  },
  {
   "cell_type": "code",
   "execution_count": null,
   "id": "877cc0c9-24f0-4868-92d5-7ed2fa412eb4",
   "metadata": {},
   "outputs": [],
   "source": [
    "plt.plot(x,y1,color='red')\n",
    "plt.plot(x,y2,color='skyblue')\n",
    "plt.plot(x,y3,color='green')\n",
    "plt.show()"
   ]
  },
  {
   "cell_type": "code",
   "execution_count": null,
   "id": "da407d90-83ba-4b3f-9fa0-100e4b128cbd",
   "metadata": {},
   "outputs": [],
   "source": [
    "11.9*6**0.25"
   ]
  },
  {
   "cell_type": "code",
   "execution_count": null,
   "id": "31263154-e9be-467a-a31a-6a0c0f76ff37",
   "metadata": {},
   "outputs": [],
   "source": [
    "5.2*6**0.5"
   ]
  },
  {
   "cell_type": "code",
   "execution_count": null,
   "id": "dd394f2c-fd67-4e9c-9fe8-8e54282712f5",
   "metadata": {},
   "outputs": [],
   "source": [
    "import tushare as ts"
   ]
  },
  {
   "cell_type": "code",
   "execution_count": null,
   "id": "0eb4c0e5-9e0b-47d1-b7ec-25e849e27011",
   "metadata": {},
   "outputs": [],
   "source": [
    "pro = ts.pro_api('c914778bc260d3911212f2a37620ffa89ca4706e44fd557673b509a2')"
   ]
  },
  {
   "cell_type": "code",
   "execution_count": null,
   "id": "53a1ff6d-8a44-46b2-b8bb-446d9831b7d8",
   "metadata": {},
   "outputs": [],
   "source": [
    "XSG_URL = '%sdatainterface.%s/EM_DataCenter/%s?type=FD&sty=BST&st=3&sr=true&fd=%s&stat=%s'\n",
    "XSG_COLS = ['id','code', 'name', 'date', 'count', 'ratio']\n",
    "ZF = '%s%s/tsdata/%s.csv'\n",
    "FORMAT = lambda x: '%.2f' % x\n",
    "P_TYPE = {'http': 'http://', 'ftp': 'ftp://'}\n",
    "DOMAINS = {'sina': 'sina.com.cn', 'sinahq': 'sinajs.cn',\n",
    "           'ifeng': 'ifeng.com', 'sf': 'finance.sina.com.cn',\n",
    "            'vsf': 'vip.stock.finance.sina.com.cn',\n",
    "            'idx': 'www.csindex.com.cn', '163': 'money.163.com',\n",
    "            'em': 'eastmoney.com', 'sseq': 'query.sse.com.cn',\n",
    "            'sse': 'www.sse.com.cn', 'szse': 'www.szse.cn',\n",
    "            'oss': 'file.tushare.org', 'idxip':'115.29.204.48',\n",
    "            'shibor': 'www.shibor.org', 'mbox':'www.cbooo.cn',\n",
    "            'tt': 'gtimg.cn', 'gw': 'gw.com.cn',\n",
    "            'v500': 'value500.com', 'sstar': 'stock.stockstar.co    m',\n",
    "            'dfcf': 'nufm.dfcfw.com'}\n",
    "\n",
    "PAGES = {'fd': 'index.phtml', 'dl': 'downxls.php', 'jv': 'json_v2.php',\n",
    "         'cpt': 'newFLJK.php', 'ids': 'newSinaHy.php', 'lnews':'rollnews_ch_out_interface.php',\n",
    "         'ntinfo':'vCB_BulletinGather.php', 'hs300b':'000300cons.xls',\n",
    "         'hs300w':'000300closeweight.xls','sz50b':'000016cons.xls',         \n",
    "         'dp':'all_fpya.php', '163dp':'fpyg.html',\n",
    "         'emxsg':'JS.aspx', '163fh':'jjcgph.php',\n",
    "         'newstock':'vRPD_NewStockIssue.php', 'zz500b':'000905cons.xls',\n",
    "         'zz500wt':'000905closeweight.xls',\n",
    "         't_ticks':'vMS_tradedetail.php', 'dw': 'downLoad.html',\n",
    "         'qmd':'queryMargin.do', 'szsefc':'ShowReport.szse',\n",
    "         'ssecq':'commonQuery.do', 'sinadd':'cn_bill_download.php', 'ids_sw':'SwHy.php',\n",
    "         'idx': 'index.php', 'index': 'index.html'}"
   ]
  },
  {
   "cell_type": "code",
   "execution_count": null,
   "id": "7774ed62-59af-44e6-8ce2-7501b603a57e",
   "metadata": {},
   "outputs": [],
   "source": [
    "year = datetime.today().year\n",
    "month = datetime.today().month\n",
    "year = 2022\n",
    "month = 2"
   ]
  },
  {
   "cell_type": "code",
   "execution_count": null,
   "id": "842faea1-8212-4621-80af-429b7b56cdc2",
   "metadata": {},
   "outputs": [],
   "source": [
    "request = requests.get(XSG_URL%(P_TYPE['http'], DOMAINS['em'],PAGES['emxsg'], year, month))"
   ]
  },
  {
   "cell_type": "code",
   "execution_count": null,
   "id": "cf3ab626-0240-459d-ac2b-89a4a6a77169",
   "metadata": {},
   "outputs": [],
   "source": [
    "def get_restricted_shares(stock_id):\n",
    "    url = 'http://datacenter-web.eastmoney.com/api/data/v1/get?callback=jQuery112305678710086023377_1630414549986&sortColumns=FREE_DATE&sortTypes=-1&pageSize=500&pageNumber=1&reportName=RPT_LIFT_STAGE&filter=(SECURITY_CODE=\"'+stock_id+'\")&columns=SECURITY_CODE,SECURITY_NAME_ABBR,FREE_DATE,CURRENT_FREE_SHARES,ABLE_FREE_SHARES,LIFT_MARKET_CAP,FREE_RATIO,NEW,B20_ADJCHRATE,A20_ADJCHRATE,FREE_SHARES_TYPE,TOTAL_RATIO,NON_FREE_SHARES,BATCH_HOLDER_NUM&source=WEB&client=WEB'\n",
    "    my_request = requests.get(url)\n",
    "    my_lines = my_request.content.decode(\"utf-8\")\n",
    "    p1 = re.compile(r'[(](.*)[)]',re.S)\n",
    "    my_json = re.findall(p1,my_lines)\n",
    "    dat = json.loads(my_json[0])\n",
    "    return pd.DataFrame.from_dict(dat['result']['data'])"
   ]
  },
  {
   "cell_type": "code",
   "execution_count": null,
   "id": "e7fbc602-ceb9-48ca-be62-cb39de925321",
   "metadata": {},
   "outputs": [],
   "source": [
    "restricted_df = get_restricted_shares('000001')"
   ]
  },
  {
   "cell_type": "code",
   "execution_count": null,
   "id": "c6db096b-7ab0-44ff-8599-33fe020ffc83",
   "metadata": {},
   "outputs": [],
   "source": [
    "restricted_df"
   ]
  },
  {
   "cell_type": "code",
   "execution_count": null,
   "id": "260ea77e-3a29-4680-ad9a-53ea5e51cea9",
   "metadata": {},
   "outputs": [],
   "source": [
    "restricted_df[restricted_df['FREE_SHARES_TYPE'].str.contains(\"增发\")]"
   ]
  },
  {
   "cell_type": "code",
   "execution_count": null,
   "id": "fa284fde-5ae7-405d-a194-fdfcb7918542",
   "metadata": {},
   "outputs": [],
   "source": [
    "request = requests.get(XSG_URL%(P_TYPE['http'], DOMAINS['em'],PAGES['emxsg'], year, month))"
   ]
  },
  {
   "cell_type": "code",
   "execution_count": null,
   "id": "0a014eef-7504-4ca6-b64f-5f248878a044",
   "metadata": {},
   "outputs": [],
   "source": [
    "json.loads(my_lines)"
   ]
  },
  {
   "cell_type": "code",
   "execution_count": null,
   "id": "91b12aa6-284e-45a4-ab82-d3376738ead4",
   "metadata": {},
   "outputs": [],
   "source": [
    "stock_id = '000538'\n",
    "r = requests.get('https://vip.stock.finance.sina.com.cn/corp/go.php/vISSUE_AddStock/stockid/'+stock_id+'.phtml')"
   ]
  },
  {
   "cell_type": "code",
   "execution_count": null,
   "id": "b9b72a37-a12d-4e87-98cc-804524d42fb0",
   "metadata": {},
   "outputs": [],
   "source": [
    "\n",
    "temp_df = pd.read_html(r.text)[12]\n",
    "if temp_df.at[0, 0] == '对不起，暂时没有相关增发记录':\n",
    "    print(f\"股票 {stock} 无增发记录\")\n",
    "big_df = pd.DataFrame()\n",
    "for i in range(int(len(temp_df.at[0, 1]) / 10)):\n",
    "    temp_df = pd.read_html(r.text)[13+i].iloc[:, 1]\n",
    "    big_df[temp_df.name.split(\" \")[1].split(\"：\")[1][:10]] = temp_df \n",
    "    big_df = big_df.T\n",
    "    #big_df.columns = [\"发行方式\", \"发行价格\", \"实际公司募集资金总额\", \"发行费用总额\", \"实际发行数量\"]"
   ]
  },
  {
   "cell_type": "code",
   "execution_count": null,
   "id": "98e6cf1a-b5e4-468f-a06b-f7569f9d3ca1",
   "metadata": {},
   "outputs": [],
   "source": [
    "big_df"
   ]
  },
  {
   "cell_type": "code",
   "execution_count": null,
   "id": "3854f976-49f7-41b2-b25d-a0158f282a75",
   "metadata": {},
   "outputs": [],
   "source": [
    "pd.read_html(r.text)[14].iloc[:,1]"
   ]
  },
  {
   "cell_type": "code",
   "execution_count": null,
   "id": "8b9d0efc-0f38-4c5b-b570-738cbb7954d6",
   "metadata": {},
   "outputs": [],
   "source": []
  },
  {
   "cell_type": "code",
   "execution_count": null,
   "id": "029659af-b837-4507-ae43-407d48720eb6",
   "metadata": {},
   "outputs": [],
   "source": [
    "r.text"
   ]
  },
  {
   "cell_type": "code",
   "execution_count": null,
   "id": "b823abca-a684-4763-b1eb-c0764c52b9c5",
   "metadata": {},
   "outputs": [],
   "source": [
    "XSG_URL%(P_TYPE['http'], DOMAINS['em'],PAGES['emxsg'], year, month)"
   ]
  },
  {
   "cell_type": "code",
   "execution_count": null,
   "id": "389d7859-bd85-41b7-8f97-a12c7a0ca50e",
   "metadata": {},
   "outputs": [],
   "source": [
    "lines = request.content.decode(\"utf-8\")\n",
    "#html = etree.HTML(html)\n",
    "#interest_text = html.xpath('.//td[@id=\"cpn_desc\"]/text()')"
   ]
  },
  {
   "cell_type": "code",
   "execution_count": null,
   "id": "87595420-155f-4ea6-b555-98b3cee7f2c9",
   "metadata": {},
   "outputs": [],
   "source": [
    "da = lines[3:len(lines)-3]\n",
    "list =  []\n",
    "for row in da.split('\",\"'):\n",
    "    list.append([data for data in row.split(',')])\n",
    "df = pd.DataFrame(list)\n",
    "df = df[[0,1, 3, 4, 5, 6]]\n",
    "for col in [5, 6]:\n",
    "    df[col] = df[col].astype(float)\n",
    "df[5] = df[5]/10000\n",
    "df[6] = df[6]*100\n",
    "df[5] = df[5].map(FORMAT)\n",
    "df[6] = df[6].map(FORMAT)\n",
    "df.columns = XSG_COLS"
   ]
  },
  {
   "cell_type": "code",
   "execution_count": null,
   "id": "7d213ca6-b4c8-48c4-913b-02cda7dc9af4",
   "metadata": {},
   "outputs": [],
   "source": [
    "df"
   ]
  },
  {
   "cell_type": "code",
   "execution_count": null,
   "id": "76060de9-3381-4966-93ce-cc942ab6f993",
   "metadata": {},
   "outputs": [],
   "source": [
    "df.loc[df['id'].str.startswith('1')]"
   ]
  },
  {
   "cell_type": "code",
   "execution_count": null,
   "id": "5ed1fb89-503b-43ee-af0c-f79890553b44",
   "metadata": {},
   "outputs": [],
   "source": [
    "df = pro.share_float(ts_code='300532.SZ')"
   ]
  },
  {
   "cell_type": "code",
   "execution_count": null,
   "id": "508c9527-8bc8-496a-8b3c-e9acf6c615e4",
   "metadata": {},
   "outputs": [],
   "source": [
    "df"
   ]
  },
  {
   "cell_type": "code",
   "execution_count": null,
   "id": "b410afd6-1bdd-43ae-a66b-45f8d2585835",
   "metadata": {},
   "outputs": [],
   "source": [
    "df = pro.share_float(ts_code='000157.SZ')"
   ]
  },
  {
   "cell_type": "code",
   "execution_count": null,
   "id": "309d58c5-844b-4641-a627-df9c1b728635",
   "metadata": {},
   "outputs": [],
   "source": [
    "df"
   ]
  },
  {
   "cell_type": "code",
   "execution_count": null,
   "id": "d13fccfd-6a24-4a40-ac12-b9c2325727df",
   "metadata": {},
   "outputs": [],
   "source": [
    "df['float_ratio'].sum()"
   ]
  },
  {
   "cell_type": "code",
   "execution_count": null,
   "id": "3e2a4a3d-337b-4c61-8683-528cbca96f82",
   "metadata": {},
   "outputs": [],
   "source": [
    "pro.share_float(ts_code='600562.SH')"
   ]
  },
  {
   "cell_type": "code",
   "execution_count": null,
   "id": "6f9f7da6-bbb8-461c-855e-6980c025ffe9",
   "metadata": {},
   "outputs": [],
   "source": []
  }
 ],
 "metadata": {
  "kernelspec": {
   "display_name": "Python 3",
   "language": "python",
   "name": "python3"
  },
  "language_info": {
   "codemirror_mode": {
    "name": "ipython",
    "version": 3
   },
   "file_extension": ".py",
   "mimetype": "text/x-python",
   "name": "python",
   "nbconvert_exporter": "python",
   "pygments_lexer": "ipython3",
   "version": "3.9.5"
  }
 },
 "nbformat": 4,
 "nbformat_minor": 5
}
