{
 "cells": [
  {
   "cell_type": "code",
   "execution_count": 1,
   "metadata": {},
   "outputs": [],
   "source": [
    "# -*- coding:utf-8 -*-\n",
    "import json\n",
    "import requests\n",
    "import csv\n",
    "import re\n",
    "from lxml import etree\n",
    "from datetime import date,datetime\n",
    "import pandas as pd\n",
    "import math\n",
    "from copy import deepcopy\n",
    "import numpy as np"
   ]
  },
  {
   "cell_type": "code",
   "execution_count": 2,
   "metadata": {},
   "outputs": [],
   "source": [
    "#Save_interest_rate"
   ]
  },
  {
   "cell_type": "code",
   "execution_count": 3,
   "metadata": {
    "jupyter": {
     "source_hidden": true
    },
    "tags": []
   },
   "outputs": [],
   "source": [
    "def save_interest_rate(data):\n",
    "    \n",
    "    # 1. 创建文件对象\n",
    "    f = open('CB_interest_rate.csv', 'w', encoding='utf-8', newline='')\n",
    "    # 2. 基于文件对象构建 csv写入对象\n",
    "    csv_writer = csv.writer(f)\n",
    "    # 3. 构建列表头\n",
    "    csv_writer.writerow([\"id\",\"iry1\", \"iry2\", \"iry3\", \"iry4\", \"iry5\", \"iry6\"])\n",
    "    \n",
    "    count = 0\n",
    "    for item in data:\n",
    "        count +=1\n",
    "        if (count %10 == 0):\n",
    "            print(\"processing \"+str(count)+\" items\")\n",
    "        try:\n",
    "            interest = get_interest_rate(item['id'])\n",
    "            interest = [item['id']]+interest\n",
    "            csv_writer.writerow(interest)\n",
    "        except Exception as e:\n",
    "            print(\"Oops!\", e.__class__, \"occurred.\")\n",
    "            print(\"The error happed at \"+item['id'])\n",
    "    # 5. 关闭文件\n",
    "    print(\"Finished processing \"+str(count)+\" items\")\n",
    "    f.close()\n"
   ]
  },
  {
   "cell_type": "code",
   "execution_count": 4,
   "metadata": {},
   "outputs": [],
   "source": [
    "#append_interest_rate"
   ]
  },
  {
   "cell_type": "code",
   "execution_count": 5,
   "metadata": {
    "jupyter": {
     "source_hidden": true
    },
    "tags": []
   },
   "outputs": [],
   "source": [
    "def append_interest_rate(item):\n",
    "    \n",
    "    # 1. 创建文件对象\n",
    "    interest_dict = get_interest_dict('CB_interest_rate.csv')\n",
    "    if item['id'] in interest_dict:\n",
    "        return\n",
    "    f = open('CB_interest_rate.csv', 'a', encoding='utf-8', newline='')\n",
    "    # 2. 基于文件对象构建 csv写入对象\n",
    "    csv_writer = csv.writer(f)\n",
    "    \n",
    "    \n",
    "\n",
    "    try:\n",
    "        interest = get_interest_rate(item['id'])\n",
    "        interest = [item['id']]+interest\n",
    "        csv_writer.writerow(interest)\n",
    "        print(\"Finished appending new CB \"+ item['name']+\" into interest rate files\")\n",
    "    except Exception as e:\n",
    "        print(\"Oops!\", e.__class__, \"occurred.\")\n",
    "        print(\"The error happed at \"+item['id'])\n",
    "    \n",
    "    # 5. 关闭文件\n",
    "    \n",
    "    f.close()\n"
   ]
  },
  {
   "cell_type": "code",
   "execution_count": 6,
   "metadata": {},
   "outputs": [],
   "source": [
    "#get_interest_rate"
   ]
  },
  {
   "cell_type": "code",
   "execution_count": 7,
   "metadata": {
    "jupyter": {
     "source_hidden": true
    },
    "tags": []
   },
   "outputs": [],
   "source": [
    "def get_interest_rate(id):\n",
    "    years = 6\n",
    "    detials_url = 'https://www.jisilu.cn/data/convert_bond_detail/'+id\n",
    "    detials_response = requests.get(detials_url)\n",
    "    html = detials_response.content.decode(\"utf-8\")\n",
    "    html = etree.HTML(html)\n",
    "    interest = html.xpath('.//td[@id=\"cpn_desc\"]/text()')\n",
    "    pattern = re.compile(r'(?<!\\d|\\.)\\d+(?:\\.\\d+)?')  #get proper format number\n",
    "    interest = pattern.findall(interest[0])\n",
    "    \n",
    "    if(len(interest) == 1):\n",
    "        interest = interest*years\n",
    "    return interest"
   ]
  },
  {
   "cell_type": "code",
   "execution_count": 8,
   "metadata": {},
   "outputs": [],
   "source": [
    "# get interest dict"
   ]
  },
  {
   "cell_type": "code",
   "execution_count": 9,
   "metadata": {
    "tags": []
   },
   "outputs": [],
   "source": [
    "def get_interest_dict(file):\n",
    "    interest_dict = dict()\n",
    "    with open(file) as csv_file:\n",
    "        csv_reader = csv.reader(csv_file, delimiter=',')\n",
    "        line_count = 0\n",
    "        for row in csv_reader:\n",
    "            if line_count == 0:\n",
    "                #skip header\n",
    "                line_count += 1\n",
    "            else:\n",
    "                interest_dict[row[0]] = row[1:]\n",
    "                line_count += 1\n",
    "        print(f'Processed {line_count} lines.')\n",
    "    return interest_dict\n"
   ]
  },
  {
   "cell_type": "code",
   "execution_count": 10,
   "metadata": {},
   "outputs": [],
   "source": [
    "# buy or sell cb"
   ]
  },
  {
   "cell_type": "code",
   "execution_count": 11,
   "metadata": {
    "jupyter": {
     "source_hidden": true
    },
    "tags": []
   },
   "outputs": [],
   "source": [
    "def buy_sell_db(db_df,file):\n",
    "    keep_number = 20\n",
    "    add_number = 5\n",
    "    keep_dict = {i:db_df['name'][i] for i in db_df[0:keep_number].index}\n",
    "    add_dict = {i:db_df['name'][i] for i in db_df[0:add_number].index}\n",
    "    sell_count = 0\n",
    "    holding_dict = dict()\n",
    "    \n",
    "    ##sell\n",
    "    with open(file) as csv_file:\n",
    "        csv_reader = csv.reader(csv_file, delimiter=',')\n",
    "        for row in csv_reader:\n",
    "            holding_dict[row[0]] = row[1]\n",
    "            if row[0] not in keep_dict.keys():\n",
    "                print(f'Sell {row[0]} {row[1]}')\n",
    "                sell_count += 1\n",
    "    if(sell_count==0):\n",
    "        print('No CB to sell')\n",
    "        \n",
    "    ##buy\n",
    "    print()\n",
    "    for cb_id,name in add_dict.items():\n",
    "        print(\"Add  \"+ cb_id+' '+name)\n",
    "    print()\n",
    "    for cb_id in keep_dict.keys():\n",
    "        if cb_id not in holding_dict.keys():\n",
    "            print(\"Buy  \"+cb_id+' '+keep_dict[cb_id])\n",
    "    "
   ]
  },
  {
   "cell_type": "code",
   "execution_count": 12,
   "metadata": {},
   "outputs": [],
   "source": [
    "def save_historical_data(db_df,file):\n",
    "    min_db = db_df['db_low'].min()\n",
    "    max_db = db_df['db_low'].max()\n",
    "    mean_db = db_df['db_low'].mean()\n",
    "    median_db = db_df['db_low'].median()\n",
    "    quater_db = np.percentile(db_df['db_low'],25)\n",
    "    today = date.today().strftime(\"%Y-%m-%d\")\n",
    "    history_list = read_historical_data(file)\n",
    "    if(today not in history_list[0]):\n",
    "        f = open(file, 'a', encoding='utf-8', newline='')\n",
    "        csv_writer = csv.writer(f)\n",
    "        #csv_writer.writerow([\"date\",\"min\", \"quater\", \"median\", \"mean\", \"max\"])\n",
    "        today_item = [today,str(min_db),str(quater_db),str(median_db),str(mean_db),str(max_db)]\n",
    "        if(today_teim != history_list[-1]):\n",
    "            csv_writer.writerow(today_item)\n",
    "        f.close()\n",
    "    else:\n",
    "        f = open(file, 'w', encoding='utf-8', newline='')\n",
    "        csv_writer = csv.writer(f)\n",
    "        csv_writer.writerow([\"date\",\"min\", \"quater\", \"median\", \"mean\", \"max\"])\n",
    "        for i in range(len(history_list)-1):\n",
    "            csv_writer.writerow(history_lis[i])\n",
    "        csv_writer.writerow([today,min_db,quater_db,median_db,mean_db,max_db])\n",
    "        f.close()\n",
    "    \n",
    "    "
   ]
  },
  {
   "cell_type": "code",
   "execution_count": 13,
   "metadata": {},
   "outputs": [],
   "source": [
    "def read_historical_data(file):\n",
    "    history_list = []\n",
    "    with open(file) as csv_file:\n",
    "        csv_reader = csv.reader(csv_file, delimiter=',')\n",
    "        next(csv_reader, None)  # skip the headers\n",
    "        for row in csv_reader:\n",
    "            history_list.append(row)\n",
    "    return history_list"
   ]
  },
  {
   "cell_type": "code",
   "execution_count": 14,
   "metadata": {
    "tags": []
   },
   "outputs": [
    {
     "ename": "NameError",
     "evalue": "name 'db_df' is not defined",
     "output_type": "error",
     "traceback": [
      "\u001b[0;31m--------------------------------------------------------------------\u001b[0m",
      "\u001b[0;31mNameError\u001b[0m                          Traceback (most recent call last)",
      "\u001b[0;32m<ipython-input-14-26956e3888b2>\u001b[0m in \u001b[0;36m<module>\u001b[0;34m\u001b[0m\n\u001b[1;32m      1\u001b[0m \u001b[0mhistory\u001b[0m \u001b[0;34m=\u001b[0m \u001b[0mread_historical_data\u001b[0m\u001b[0;34m(\u001b[0m\u001b[0;34m'db_history.csv'\u001b[0m\u001b[0;34m)\u001b[0m\u001b[0;34m\u001b[0m\u001b[0;34m\u001b[0m\u001b[0m\n\u001b[0;32m----> 2\u001b[0;31m \u001b[0mmin_db\u001b[0m \u001b[0;34m=\u001b[0m \u001b[0mdb_df\u001b[0m\u001b[0;34m[\u001b[0m\u001b[0;34m'db_low'\u001b[0m\u001b[0;34m]\u001b[0m\u001b[0;34m.\u001b[0m\u001b[0mmin\u001b[0m\u001b[0;34m(\u001b[0m\u001b[0;34m)\u001b[0m\u001b[0;34m\u001b[0m\u001b[0;34m\u001b[0m\u001b[0m\n\u001b[0m\u001b[1;32m      3\u001b[0m \u001b[0mmax_db\u001b[0m \u001b[0;34m=\u001b[0m \u001b[0mdb_df\u001b[0m\u001b[0;34m[\u001b[0m\u001b[0;34m'db_low'\u001b[0m\u001b[0;34m]\u001b[0m\u001b[0;34m.\u001b[0m\u001b[0mmax\u001b[0m\u001b[0;34m(\u001b[0m\u001b[0;34m)\u001b[0m\u001b[0;34m\u001b[0m\u001b[0;34m\u001b[0m\u001b[0m\n\u001b[1;32m      4\u001b[0m \u001b[0mmean_db\u001b[0m \u001b[0;34m=\u001b[0m \u001b[0mdb_df\u001b[0m\u001b[0;34m[\u001b[0m\u001b[0;34m'db_low'\u001b[0m\u001b[0;34m]\u001b[0m\u001b[0;34m.\u001b[0m\u001b[0mmean\u001b[0m\u001b[0;34m(\u001b[0m\u001b[0;34m)\u001b[0m\u001b[0;34m\u001b[0m\u001b[0;34m\u001b[0m\u001b[0m\n\u001b[1;32m      5\u001b[0m \u001b[0mmedian_db\u001b[0m \u001b[0;34m=\u001b[0m \u001b[0mdb_df\u001b[0m\u001b[0;34m[\u001b[0m\u001b[0;34m'db_low'\u001b[0m\u001b[0;34m]\u001b[0m\u001b[0;34m.\u001b[0m\u001b[0mmedian\u001b[0m\u001b[0;34m(\u001b[0m\u001b[0;34m)\u001b[0m\u001b[0;34m\u001b[0m\u001b[0;34m\u001b[0m\u001b[0m\n",
      "\u001b[0;31mNameError\u001b[0m: name 'db_df' is not defined"
     ]
    }
   ],
   "source": [
    "history = read_historical_data('db_history.csv')\n",
    "min_db = db_df['db_low'].min()\n",
    "max_db = db_df['db_low'].max()\n",
    "mean_db = db_df['db_low'].mean()\n",
    "median_db = db_df['db_low'].median()\n",
    "quater_db = np.percentile(db_df['db_low'],25)\n",
    "today = date.today().strftime(\"%Y-%m-%d\")\n",
    "history2 = [today,str(min_db),str(quater_db),str(median_db),str(mean_db),str(max_db)]\n",
    "if(history[-1]==history2):\n",
    "    print('same')\n",
    "history2"
   ]
  },
  {
   "cell_type": "code",
   "execution_count": null,
   "metadata": {},
   "outputs": [],
   "source": [
    "history2 == history[-1]"
   ]
  },
  {
   "cell_type": "code",
   "execution_count": null,
   "metadata": {},
   "outputs": [],
   "source": [
    "# get data"
   ]
  },
  {
   "cell_type": "code",
   "execution_count": null,
   "metadata": {
    "jupyter": {
     "source_hidden": true
    },
    "tags": []
   },
   "outputs": [],
   "source": [
    "def get_dat(get_force_redeem=\"No\"):\n",
    "    headers = {\n",
    "        #\"User-Agent\": \"Mozilla/5.0 (Windows NT 10.0; WOW64) AppleWebKit/537.36 (KHTML, like Gecko) Chrome/51.0.2704.103 Safari/537.36\",\n",
    "        \"User-agent\": \"Mozilla/5.0 (X11; Linux x86_64) AppleWebKit/537.36 (KHTML, like Gecko) Chrome/51.0.2704.106 Safari/537.36 OPR/38.0.2220.41\",\n",
    "    }\n",
    "\n",
    "    newUrl =\"https://www.jisilu.cn/data/cbnew/cb_list/?___jsl=LST___t=1584777951900\"\n",
    "    #最简单的爬虫请求.也可以加上headers字段，防止部分网址的反爬虫机制\n",
    "    response = requests.get(newUrl)\n",
    "    #当爬取的界面需要用户名密码登录时候，构建的请求需要包含auth字段\n",
    "    data = response.content.decode(\"utf-8\")\n",
    "    dat = json.loads(data)\n",
    "\n",
    "    # 所有数据\n",
    "    lst_data = []\n",
    "    count = 0\n",
    "    for one in dat['rows']:\n",
    "        # 每一条数据\n",
    "        lst_dat = dict()\n",
    "        # 转债id\n",
    "        id = one[\"id\"]\n",
    "        dat_cell = one[\"cell\"]\n",
    "        # 是否赎回\n",
    "        is_force_redeem = dat_cell['force_redeem']\n",
    "        is_list = dat_cell['price_tips']\n",
    "        \n",
    "            \n",
    "        \n",
    "        force_redeem_boolean = False\n",
    "        if(get_force_redeem==\"No\"):\n",
    "            if(is_force_redeem == None):\n",
    "                force_redeem_boolean = True\n",
    "            else:\n",
    "                force_redeem_boolean = False\n",
    "        else:\n",
    "            if(is_force_redeem == None):\n",
    "                force_redeem_boolean = False\n",
    "            else:\n",
    "                force_redeem_boolean = True\n",
    "        \n",
    "        if force_redeem_boolean and is_list != \"待上市\":\n",
    "            \n",
    "            count += 1\n",
    "            if (count %100 == 0):\n",
    "                print(\"processing \"+str(count)+\" items\")\n",
    "            \n",
    "            # 转债名称\n",
    "            name = dat_cell['bond_nm']\n",
    "            # 现价\n",
    "            price = dat_cell['price']\n",
    "            # stock id\n",
    "            stock_id = dat_cell['stock_id']\n",
    "            stock_id = stock_id.replace(\"sh\", \"ss\")\n",
    "            stock_id = stock_id[2:]+\".\"+stock_id[0:2]\n",
    "            # stock name\n",
    "            stock_nm = dat_cell['stock_nm']\n",
    "            # 溢价率\n",
    "            premium_rt = dat_cell['premium_rt']\n",
    "            # 评级\n",
    "            rating_cd = dat_cell['rating_cd']\n",
    "            \n",
    "            \n",
    "            # next put date\n",
    "            next_put_dt = dat_cell['next_put_dt']\n",
    "            # put price\n",
    "            put_price   = dat_cell['put_price']\n",
    "            # 回售触发价\n",
    "            put_convert_price = dat_cell['put_convert_price']\n",
    "            \n",
    "            \n",
    "            # maturity date\n",
    "            maturity_dt = dat_cell['maturity_dt']\n",
    "            # redeem price\n",
    "            redeem_price = dat_cell['redeem_price']\n",
    "            \n",
    "            # 强赎触发价\n",
    "            redeem_dt = dat_cell['redeem_dt']\n",
    "            force_redeem_price = dat_cell['force_redeem_price']\n",
    "            # 剩余时间\n",
    "            last_time = dat_cell['year_left']\n",
    "            pb = dat_cell['pb']\n",
    "\n",
    "\n",
    "            #lst_dat.append(id)\n",
    "            lst_dat['id'] = id\n",
    "            lst_dat['name'] = name\n",
    "            lst_dat['stock_id'] = stock_id\n",
    "            lst_dat['stock_name'] = stock_nm\n",
    "            lst_dat['price'] = price\n",
    "            lst_dat['convert_value'] = dat_cell['convert_value']\n",
    "            lst_dat['premium_rt'] = premium_rt\n",
    "            lst_dat['rating_cd'] = rating_cd\n",
    "            lst_dat['pb']  = pb\n",
    "            lst_dat['convert_amt_ratio'] = dat_cell['convert_amt_ratio']\n",
    "            lst_dat['convert_amt_ratio2'] = dat_cell['convert_amt_ratio2']\n",
    "            \n",
    "            \n",
    "            \n",
    "            if(get_force_redeem == \"No\"):\n",
    "                lst_dat['next_put_dt'] = next_put_dt\n",
    "                lst_dat['put_price'] = put_price\n",
    "                lst_dat['put_convert_price'] = put_convert_price\n",
    "            \n",
    "                lst_dat['maturity_dt'] = maturity_dt\n",
    "                lst_dat['redeem_price'] = redeem_price\n",
    "                lst_dat['last_time'] = last_time\n",
    "            \n",
    "            else:\n",
    "                lst_dat['redeem_dt']  = redeem_dt\n",
    "                lst_dat['force_redeem_price'] = force_redeem_price\n",
    "                lst_dat['force_redeem'] = is_force_redeem\n",
    "            \n",
    "  \n",
    "            lst_data.append(lst_dat)\n",
    "            \n",
    "        else:\n",
    "            continue\n",
    "    print(\"Finished processing \"+str(count)+\" items\")\n",
    "    \n",
    "    return lst_data"
   ]
  },
  {
   "cell_type": "code",
   "execution_count": null,
   "metadata": {},
   "outputs": [],
   "source": [
    "#put arbitrage"
   ]
  },
  {
   "cell_type": "code",
   "execution_count": null,
   "metadata": {
    "jupyter": {
     "source_hidden": true
    },
    "tags": []
   },
   "outputs": [],
   "source": [
    "def put_arbitrage(data):\n",
    "    data_copy = deepcopy(data)\n",
    "    put_data = []\n",
    "    count = 0\n",
    "    for item in data_copy:\n",
    "        price       = item['price']\n",
    "        put_price   = item['put_price']\n",
    "\n",
    "        \n",
    "        if(put_price is None):\n",
    "            continue\n",
    "            \n",
    "        price = float(price)\n",
    "        put_price = float(put_price)\n",
    "            \n",
    "        if(price>put_price+5.0): ###To Save Time, the maximun interest could not over 10\n",
    "            continue\n",
    "            \n",
    "\n",
    "        \n",
    "        next_put_dt = item['next_put_dt']\n",
    "        next_put_dt = datetime.strptime(next_put_dt,'%Y-%m-%d').date()\n",
    "        maturity_dt = item['maturity_dt']\n",
    "        maturity_dt = datetime.strptime(maturity_dt,'%Y-%m-%d').date()\n",
    "        today = date.today()\n",
    "        \n",
    "        \n",
    "        days_to_maturity = maturity_dt-today\n",
    "        years_to_maturity = days_to_maturity.days/365\n",
    "        days_to_put  = next_put_dt-today\n",
    "        years_to_put  = days_to_put.days/365\n",
    "        \n",
    "        put_to_maturity = round(years_to_maturity-years_to_put)\n",
    "        #print(put_to_maturity)\n",
    "        \n",
    "        \n",
    "        if item['id'] in interest_dict.keys():\n",
    "            interest = interest_dict[item['id']]\n",
    "        else:\n",
    "            append_interest_rate(item)\n",
    "            interest = get_interest_rate(item['id'])\n",
    "        \n",
    "        \n",
    "        total_interest = 0\n",
    "        for i in range(3,math.ceil(years_to_put)+put_to_maturity+1):\n",
    "            #print(i)\n",
    "            #print(interest)\n",
    "            #print(item['id'])\n",
    "            total_interest += float(interest[-i])\n",
    "        \n",
    "        \n",
    "    \n",
    "        \n",
    "        actual_put_price = put_price*(1+total_interest*0.008)\n",
    "        \n",
    "        \n",
    "        if(price<actual_put_price):\n",
    "            year_diff = years_to_put + 38/365\n",
    "            profit_rate = actual_put_price/price\n",
    "            CAGR  = profit_rate ** (1/year_diff)-1\n",
    "            item['actual_put_price'] = actual_put_price\n",
    "            item['CAGR'] = CAGR\n",
    "            item['last_to_put'] = year_diff\n",
    "            put_data.append(item)\n",
    "        \n",
    "        count += 1\n",
    "        if (count %100 == 0):\n",
    "            print(\"processing\"+str(count)+\" items\")\n",
    "    \n",
    "    print(\"Finished processing \"+str(count)+\" items\")\n",
    "    df = pd.DataFrame(put_data)\n",
    "    df = df.set_index(['id'])\n",
    "    df = df.sort_values('CAGR',ascending=False)\n",
    "    return df\n",
    "          "
   ]
  },
  {
   "cell_type": "code",
   "execution_count": null,
   "metadata": {},
   "outputs": [],
   "source": [
    "# redeem arbitrage"
   ]
  },
  {
   "cell_type": "code",
   "execution_count": null,
   "metadata": {
    "jupyter": {
     "source_hidden": true
    },
    "tags": []
   },
   "outputs": [],
   "source": [
    "def redeem_arbitrage(data):\n",
    "    put_data = []\n",
    "    data_copy = deepcopy(data)\n",
    "    for item in data_copy:\n",
    "        price       = item['price']\n",
    "        redeem_price   = item['redeem_price']\n",
    "\n",
    "        \n",
    "        if(redeem_price is None):\n",
    "            continue\n",
    "            \n",
    "        price = float(price)\n",
    "        redeem_price = float(redeem_price)\n",
    "            \n",
    "\n",
    "        \n",
    "        maturity_dt = item['maturity_dt']\n",
    "        maturity_dt = datetime.strptime(maturity_dt,'%Y-%m-%d').date()\n",
    "        today = date.today()\n",
    "        \n",
    "        days_to_maturity = maturity_dt-today\n",
    "        years_to_maturity = days_to_maturity.days/365\n",
    "        \n",
    "        \n",
    "        if item['id'] in interest_dict.keys():\n",
    "            interest = interest_dict[item['id']]\n",
    "        else:\n",
    "            append_interest_rate(item)\n",
    "            interest = get_interest_rate(item['id'])\n",
    "            \n",
    "        total_interest = 0\n",
    "        for i in range(2,math.ceil(years_to_maturity)):\n",
    "            total_interest += float(interest[-i])\n",
    "            \n",
    "        actual_price = redeem_price*(1+total_interest*0.008)\n",
    "        \n",
    "        if(price<actual_price):\n",
    "            year_diff = years_to_maturity\n",
    "            profit_rate = actual_price/price\n",
    "            CAGR  = profit_rate ** (1/year_diff)-1\n",
    "            item['CAGR'] = CAGR\n",
    "            put_data.append(item)\n",
    "    df = pd.DataFrame(put_data)\n",
    "    df = df.set_index(['id'])\n",
    "    df = df.sort_values('CAGR',ascending=False)\n",
    "    return df\n",
    "          "
   ]
  },
  {
   "cell_type": "code",
   "execution_count": null,
   "metadata": {},
   "outputs": [],
   "source": [
    "# double low arbitarge"
   ]
  },
  {
   "cell_type": "code",
   "execution_count": null,
   "metadata": {
    "jupyter": {
     "source_hidden": true
    },
    "tags": []
   },
   "outputs": [],
   "source": [
    "def double_low_arbitrage(data,redeem_df,put_df):\n",
    "    db_data = []\n",
    "    DISCOUNT = 0.8  ###convert amt ratio discount \n",
    "    data_copy = deepcopy(data)\n",
    "    \n",
    "    redeem_dict = redeem_df.to_dict('index')\n",
    "    put_dict = put_df.to_dict('index')\n",
    "    \n",
    "    for item in data_copy:\n",
    "        id = item['id']\n",
    "        price       = item['price']\n",
    "        premium_rt = item['premium_rt']\n",
    "        convert_amt_ratio = item['convert_amt_ratio']\n",
    "        convert_value = item['convert_value']\n",
    "        \n",
    "            \n",
    "        price = float(price)\n",
    "        premium_rt = float(premium_rt.strip('%'))/100\n",
    "        convert_amt_ratio = float(convert_amt_ratio.strip('%'))/100\n",
    "        convert_value = float(convert_value)\n",
    "        \n",
    "        new_convert_value = convert_value*(1-convert_amt_ratio*DISCOUNT)\n",
    "        new_premium = price/new_convert_value - 1\n",
    "        \n",
    "        redeem_cagr = 0\n",
    "        put_cagr = 0\n",
    "        if(id in redeem_dict.keys()):\n",
    "            redeem_cagr = redeem_dict[id]['CAGR']\n",
    "        if(id in put_dict.keys()):\n",
    "            put_cagr = put_dict[id]['CAGR']\n",
    "        \n",
    "        item['redeem_CAGR'] = redeem_cagr\n",
    "        item['put_CAGR']    = put_cagr   \n",
    "        item['new_premium'] = new_premium\n",
    "        if(redeem_cagr>put_cagr):\n",
    "            db_low = price + new_premium*100 - redeem_cagr*100\n",
    "        else:\n",
    "            db_low = price + new_premium*100 - put_cagr*100\n",
    "        \n",
    "        item['db_low'] = db_low*math.sqrt(price/100) if price>100 else db_low\n",
    "        \n",
    "        db_data.append(item)\n",
    "    df = pd.DataFrame(db_data)\n",
    "    df = df.set_index(['id'])\n",
    "    df = df.sort_values('db_low')\n",
    "    return df"
   ]
  },
  {
   "cell_type": "code",
   "execution_count": null,
   "metadata": {},
   "outputs": [],
   "source": [
    "data = get_dat()\n",
    "pd.DataFrame.from_dict(data).to_csv(r'CB_list.csv',index=False)\n",
    "#force_redeem_data = get_dat('Yes')\n",
    "#pd.DataFrame.from_dict(force_redeem_data).to_csv(r'CB_force_redeem_list.csv',index=False)"
   ]
  },
  {
   "cell_type": "code",
   "execution_count": null,
   "metadata": {},
   "outputs": [],
   "source": [
    "interest_dict = get_interest_dict('CB_interest_rate.csv')"
   ]
  },
  {
   "cell_type": "code",
   "execution_count": null,
   "metadata": {},
   "outputs": [],
   "source": [
    "redeem_df = redeem_arbitrage(data)"
   ]
  },
  {
   "cell_type": "code",
   "execution_count": null,
   "metadata": {},
   "outputs": [],
   "source": [
    "put_df = put_arbitrage(data)"
   ]
  },
  {
   "cell_type": "code",
   "execution_count": null,
   "metadata": {},
   "outputs": [],
   "source": [
    "db_df = double_low_arbitrage(data,redeem_df,put_df)"
   ]
  },
  {
   "cell_type": "code",
   "execution_count": null,
   "metadata": {},
   "outputs": [],
   "source": [
    "db_df[0:10]"
   ]
  },
  {
   "cell_type": "code",
   "execution_count": null,
   "metadata": {},
   "outputs": [],
   "source": [
    "db_df[10:20]"
   ]
  },
  {
   "cell_type": "code",
   "execution_count": null,
   "metadata": {},
   "outputs": [],
   "source": [
    "buy_sell_db(db_df,'mycb_list.csv')"
   ]
  },
  {
   "cell_type": "code",
   "execution_count": null,
   "metadata": {},
   "outputs": [],
   "source": [
    "save_historical_data(db_df,'db_history.csv')"
   ]
  },
  {
   "cell_type": "code",
   "execution_count": null,
   "metadata": {},
   "outputs": [],
   "source": [
    "put_df[0:10]"
   ]
  }
 ],
 "metadata": {
  "kernelspec": {
   "display_name": "Python 3",
   "language": "python",
   "name": "python3"
  },
  "language_info": {
   "codemirror_mode": {
    "name": "ipython",
    "version": 3
   },
   "file_extension": ".py",
   "mimetype": "text/x-python",
   "name": "python",
   "nbconvert_exporter": "python",
   "pygments_lexer": "ipython3",
   "version": "3.9.5"
  }
 },
 "nbformat": 4,
 "nbformat_minor": 4
}
