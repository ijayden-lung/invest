{
 "cells": [
  {
   "cell_type": "code",
   "execution_count": 1,
   "id": "18ca84dd-eca7-4f05-816f-a6b2245ec2a5",
   "metadata": {},
   "outputs": [],
   "source": [
    "# -*- coding:utf-8 -*-\n",
    "import json\n",
    "import requests\n",
    "import csv\n",
    "import re\n",
    "from lxml import etree\n",
    "from datetime import date,datetime\n",
    "import pandas as pd\n",
    "import math\n",
    "from copy import deepcopy\n",
    "import numpy as np\n",
    "import matplotlib.pyplot as plt"
   ]
  },
  {
   "cell_type": "code",
   "execution_count": 49,
   "id": "74b3afe7-774f-48ae-84a3-824cc4659416",
   "metadata": {},
   "outputs": [],
   "source": [
    "def save_interest_rate(data):\n",
    "    \n",
    "    # 1. 创建文件对象\n",
    "    f = open('CB_interest_rate.test.csv', 'w', encoding='utf-8', newline='')\n",
    "    # 2. 基于文件对象构建 csv写入对象\n",
    "    csv_writer = csv.writer(f)\n",
    "    # 3. 构建列表头\n",
    "    csv_writer.writerow([\"id\",\"iry1\", \"iry2\", \"iry3\", \"iry4\", \"iry5\", \"iry6\"])\n",
    "    \n",
    "    count = 0\n",
    "    for item in data:\n",
    "        count +=1\n",
    "        if (count %10 == 0):\n",
    "            print(\"processing \"+str(count)+\" items\")\n",
    "        try:\n",
    "            interest = get_interest_rate(item['id'])\n",
    "            interest = [item['id']]+interest\n",
    "            csv_writer.writerow(interest)\n",
    "        except Exception as e:\n",
    "            print(\"Oops!\", e.__class__, \"occurred.\")\n",
    "            print(\"The error happed at \"+item['id'])\n",
    "    # 5. 关闭文件\n",
    "    print(\"Finished processing \"+str(count)+\" items\")\n",
    "    f.close()\n"
   ]
  },
  {
   "cell_type": "code",
   "execution_count": 95,
   "id": "adbe97df-108c-4572-ba95-e1cec8d29011",
   "metadata": {},
   "outputs": [],
   "source": [
    "def get_interest_rate(id):\n",
    "    years = 6\n",
    "    detials_url = 'https://www.jisilu.cn/data/convert_bond_detail/'+id\n",
    "    detials_response = requests.get(detials_url)\n",
    "    html = detials_response.content.decode(\"utf-8\")\n",
    "    html = etree.HTML(html)\n",
    "    interest_text = html.xpath('.//td[@id=\"cpn_desc\"]/text()')\n",
    "    if(not interest_text[0].find('%')):\n",
    "        print(\" not in interest test %s %s\"%(id,interest_text))\n",
    "        pattern = re.compile(r'(?<!\\d|\\.)\\d+(?:\\.\\d+)?')  #get proper format number\n",
    "    else:\n",
    "        pattern = re.compile(r'(?<!\\d|\\.)\\d+(?:\\.\\d+)?\\s?%')  #get proper format number\n",
    "    interest = pattern.findall(interest_text[0])\n",
    "    if(len(interest) <= 1):\n",
    "        print(\"%s fixed interest rate %s\"%(id, interest_text[0]))\n",
    "        interest = interest*years\n",
    "    elif(len(interest)<5):\n",
    "        print(\"%s number of interest rate between 2-4 %s\"%(id, interest_text[0]))\n",
    "        print(\"You may need to check manually\")\n",
    "    elif(len(interest)>6):\n",
    "        print(\"%s number of interest rate greater than 6 %s\"%(id, interest_text[0]))\n",
    "        print(\"You may need to check manually\")\n",
    "    interest = [rate.strip(\"%\") for rate in interest]\n",
    "    return interest"
   ]
  },
  {
   "cell_type": "code",
   "execution_count": 48,
   "id": "a63617f8-bc5a-4959-84c3-f97892d2e324",
   "metadata": {
    "jupyter": {
     "source_hidden": true
    },
    "tags": []
   },
   "outputs": [],
   "source": [
    "def get_dat():\n",
    "    # Fill in your details here to be posted to the login form.\n",
    "    payload = {\n",
    "        'user_name': 'a39856ed4377d1b92cffb0677febf5b8',\n",
    "        'password': 'ca5572b5ffe8c33746727709bc7d6c6f'\n",
    "    }\n",
    "    headers = {\n",
    "        \"User-Agent\": \"Mozilla/5.0 (Macintosh; Intel Mac OS X 10_15_3) AppleWebKit/537.36 (KHTML, like Gecko) Chrome/91.0.4472.114 Safari/537.36\",\n",
    "        #\"User-agent\": \"Mozilla/5.0 (X11; Linux x86_64) AppleWebKit/537.36 (KHTML, like Gecko) Chrome/51.0.2704.106 Safari/537.36 OPR/38.0.2220.41\",\n",
    "        \"Cookie\": \"kbzw__Session=l313fggdcjpnd7eineqilm6lf4; kbz_newcookie=1; kbzw_r_uname=ijayden; Hm_lvt_164fe01b1433a19b507595a43bf58262=1627073048,1627079966,1627115858,1627117055; Hm_lpvt_164fe01b1433a19b507595a43bf58262=1627118717\"\n",
    "    }\n",
    "    loginUrl=\"https://www.jisilu.cn/account/ajax/login_process/\"\n",
    "    r = requests.post(loginUrl,data=payload)\n",
    "\n",
    "    newUrl =\"https://www.jisilu.cn/data/cbnew/cb_list/?___jsl=LST___t=1584777951900\"\n",
    "    #最简单的爬虫请求.也可以加上headers字段，防止部分网址的反爬虫机制\n",
    "    response = requests.get(newUrl,cookies=r.cookies)\n",
    "    data = response.content.decode(\"utf-8\")\n",
    "    dat = json.loads(data)\n",
    "\n",
    "    # 所有数据\n",
    "    lst_data = []\n",
    "    count = 0\n",
    "    for one in dat['rows']:\n",
    "        # 每一条数据\n",
    "        lst_dat = dict()\n",
    "        # 转债id\n",
    "        id = one[\"id\"]\n",
    "        dat_cell = one[\"cell\"]\n",
    "        # 是否赎回\n",
    "        is_force_redeem = dat_cell['redeem_flag']\n",
    "        is_list = dat_cell['price_tips']\n",
    "        \n",
    "        if is_list != \"待上市\":\n",
    "            \n",
    "            count += 1\n",
    "            if (count %100 == 0):\n",
    "                print(\"processing \"+str(count)+\" items\")\n",
    "            \n",
    "            # 转债名称\n",
    "            name = dat_cell['bond_nm']\n",
    "            # 现价\n",
    "            price = dat_cell['price']\n",
    "            # stock id\n",
    "            stock_id = dat_cell['stock_id']\n",
    "            stock_id = stock_id.replace(\"sh\", \"ss\")\n",
    "            stock_id = stock_id[2:]+\".\"+stock_id[0:2]\n",
    "            # stock name\n",
    "            stock_nm = dat_cell['stock_nm']\n",
    "            # 溢价率\n",
    "            premium_rt = dat_cell['premium_rt']\n",
    "            # 评级\n",
    "            rating_cd = dat_cell['rating_cd']\n",
    "            \n",
    "            \n",
    "            # next put date\n",
    "            next_put_dt = dat_cell['next_put_dt']\n",
    "            # put price\n",
    "            put_price   = dat_cell['put_price']\n",
    "            # 回售触发价\n",
    "            put_convert_price = dat_cell['put_convert_price']\n",
    "            \n",
    "            \n",
    "            # maturity date\n",
    "            maturity_dt = dat_cell['maturity_dt']\n",
    "            # redeem price\n",
    "            redeem_price = dat_cell['redeem_price']\n",
    "            \n",
    "            # 强赎触发价\n",
    "            redeem_dt = dat_cell['redeem_dt']\n",
    "            force_redeem_price = dat_cell['force_redeem_price']\n",
    "            # 剩余时间\n",
    "            last_time = dat_cell['year_left']\n",
    "            pb = dat_cell['pb']\n",
    "\n",
    "\n",
    "            #lst_dat.append(id)\n",
    "            lst_dat['id'] = id\n",
    "            lst_dat['name'] = name\n",
    "            lst_dat['stock_id'] = stock_id\n",
    "            lst_dat['stock_name'] = stock_nm\n",
    "            lst_dat['price'] = float(price)\n",
    "            lst_dat['convert_value'] = float(dat_cell['convert_value'])\n",
    "            lst_dat['premium_rt'] = premium_rt\n",
    "            lst_dat['rating_cd'] = rating_cd\n",
    "            lst_dat['pb']  = pb\n",
    "            lst_dat['convert_amt_ratio'] = dat_cell['convert_amt_ratio']\n",
    "            lst_dat['convert_amt_ratio2'] = dat_cell['convert_amt_ratio2']\n",
    "            \n",
    "            \n",
    "            \n",
    "            lst_dat['next_put_dt'] = next_put_dt\n",
    "            lst_dat['put_price'] = put_price\n",
    "            lst_dat['put_convert_price'] = put_convert_price\n",
    "            \n",
    "            lst_dat['maturity_dt'] = maturity_dt\n",
    "            lst_dat['redeem_price'] = redeem_price\n",
    "            lst_dat['last_time'] = last_time\n",
    "            lst_dat['force_redeem'] = is_force_redeem\n",
    "            \n",
    "            lst_dat['redeem_dt']  = redeem_dt\n",
    "            lst_dat['force_redeem_price'] = force_redeem_price\n",
    "            \n",
    "  \n",
    "            lst_data.append(lst_dat)\n",
    "            \n",
    "        else:\n",
    "            continue\n",
    "    print(\"Finished processing \"+str(count)+\" items\")\n",
    "    \n",
    "    return lst_data"
   ]
  },
  {
   "cell_type": "code",
   "execution_count": 6,
   "id": "72feca02-4d48-4719-8d40-84155b9df71c",
   "metadata": {},
   "outputs": [
    {
     "data": {
      "text/plain": [
       "['第一年为 0.40%、第二年为 0.60%、第三年为 1.20%、第四年为 2.20%、 第五年为 3.50%、第六年为 4.00%']"
      ]
     },
     "execution_count": 6,
     "metadata": {},
     "output_type": "execute_result"
    }
   ],
   "source": [
    "interest = html.xpath('.//td[@id=\"cpn_desc\"]/text()')\n",
    "interest"
   ]
  },
  {
   "cell_type": "code",
   "execution_count": 46,
   "id": "d4eeaffb-c134-46a0-8282-524056e29d42",
   "metadata": {},
   "outputs": [],
   "source": [
    "cb1 = get_interest_rate('113049')"
   ]
  },
  {
   "cell_type": "code",
   "execution_count": 47,
   "id": "dc3c56ed-10a8-4ba3-89ac-e9c81edd4907",
   "metadata": {},
   "outputs": [
    {
     "data": {
      "text/plain": [
       "['0.2%', '0.4%', '0.6%', '0.8%', '1.5%', '2.0%']"
      ]
     },
     "execution_count": 47,
     "metadata": {},
     "output_type": "execute_result"
    }
   ],
   "source": [
    "cb1"
   ]
  },
  {
   "cell_type": "code",
   "execution_count": 27,
   "id": "0568acf5-3c14-4b80-8ad8-456994e3700c",
   "metadata": {},
   "outputs": [
    {
     "name": "stdout",
     "output_type": "stream",
     "text": [
      "['第1年1.0%,第2年1.0%,第3年1.0%,第4年1.0%,第5年1.0%']\n"
     ]
    }
   ],
   "source": [
    "cb2 = get_interest_rate('120003')"
   ]
  },
  {
   "cell_type": "code",
   "execution_count": 25,
   "id": "660840fd-b15c-424f-839d-71ed0e384b79",
   "metadata": {},
   "outputs": [
    {
     "name": "stdout",
     "output_type": "stream",
     "text": [
      "['第1年0.5%,第2年0.5%,第3年0.5%,第4年0.5%,第5年0.5%']\n"
     ]
    }
   ],
   "source": [
    "cb3 = get_interest_rate('132018')"
   ]
  },
  {
   "cell_type": "code",
   "execution_count": 18,
   "id": "07e18de9-9919-42bc-962b-0955d920e23f",
   "metadata": {},
   "outputs": [
    {
     "name": "stdout",
     "output_type": "stream",
     "text": [
      "['第一年 0.4%、第二年 0.6%、第三年 1.0%、第四年 1.5%、第五年 2.0%、第 六年 3.0%。到期赎回价为 113 元(含最后一期利息)']\n"
     ]
    }
   ],
   "source": [
    "cb4 = get_interest_rate('128125')"
   ]
  },
  {
   "cell_type": "code",
   "execution_count": 32,
   "id": "198fd262-8c28-48e4-bb0b-27561c0d27ef",
   "metadata": {},
   "outputs": [
    {
     "data": {
      "text/plain": [
       "['0.4%', '0.6%', '1.0%', '1.5%', '2.0%', '3.0%']"
      ]
     },
     "execution_count": 32,
     "metadata": {},
     "output_type": "execute_result"
    }
   ],
   "source": [
    "re.findall(r'(?<!\\d|\\.)\\d+(?:\\.\\d+)%', cb4[0])"
   ]
  },
  {
   "cell_type": "code",
   "execution_count": 26,
   "id": "5f6e7eda-ddbf-4789-b815-13fd9032abda",
   "metadata": {},
   "outputs": [
    {
     "data": {
      "text/plain": [
       "['0.5%', '0.5%', '0.5%', '0.5%', '0.5%']"
      ]
     },
     "execution_count": 26,
     "metadata": {},
     "output_type": "execute_result"
    }
   ],
   "source": [
    "re.findall(r'(?<!\\d|\\.)\\d+(?:\\.\\d+)%', cb3[0])"
   ]
  },
  {
   "cell_type": "code",
   "execution_count": 28,
   "id": "1c8e70f4-88d9-47b2-8cf9-ec2b167639a9",
   "metadata": {},
   "outputs": [
    {
     "data": {
      "text/plain": [
       "['1.0%', '1.0%', '1.0%', '1.0%', '1.0%']"
      ]
     },
     "execution_count": 28,
     "metadata": {},
     "output_type": "execute_result"
    }
   ],
   "source": [
    "re.findall(r'(?<!\\d|\\.)\\d+(?:\\.\\d+)%', cb2[0])"
   ]
  },
  {
   "cell_type": "code",
   "execution_count": 30,
   "id": "a867bb69-4ae4-415a-acc1-67b09002a4ea",
   "metadata": {},
   "outputs": [
    {
     "data": {
      "text/plain": [
       "['0.2%', '0.4%', '0.6%', '0.8%', '1.5%', '2.0%']"
      ]
     },
     "execution_count": 30,
     "metadata": {},
     "output_type": "execute_result"
    }
   ],
   "source": [
    "re.findall(r'(?<!\\d|\\.)\\d+(?:\\.\\d+)%', cb1[0])"
   ]
  },
  {
   "cell_type": "code",
   "execution_count": 96,
   "id": "7d9f4efc-0951-4f87-8736-7a89b2459734",
   "metadata": {
    "tags": []
   },
   "outputs": [
    {
     "name": "stdout",
     "output_type": "stream",
     "text": [
      "120004 only 1 interest rate 券票面利率为1.0%\n",
      "processing 10 items\n",
      "132014 only 1 interest rate 每年固定0.9%\n",
      "processing 20 items\n",
      "processing 30 items\n",
      "processing 40 items\n",
      "processing 50 items\n",
      "processing 60 items\n",
      "processing 70 items\n",
      "processing 80 items\n",
      "processing 90 items\n",
      "processing 100 items\n",
      "processing 110 items\n",
      "processing 120 items\n",
      "processing 130 items\n",
      "processing 140 items\n",
      "processing 150 items\n",
      "processing 160 items\n",
      "127035 odd number of interest rate 第一年 0.6%、第二年 0.8%、第三年 1.5%、第四年 3.0%、第五年 3.8\n",
      "processing 170 items\n",
      "processing 180 items\n",
      "processing 190 items\n",
      "processing 200 items\n",
      "processing 210 items\n",
      "processing 220 items\n",
      "processing 230 items\n",
      "processing 240 items\n",
      "processing 250 items\n",
      "processing 260 items\n",
      "processing 270 items\n",
      "processing 280 items\n",
      "processing 290 items\n",
      "processing 300 items\n",
      "132022 odd number of interest rate 0.10%,0.10%,0.10%,\n",
      "processing 310 items\n",
      "processing 320 items\n",
      "processing 330 items\n",
      "processing 340 items\n",
      "processing 350 items\n",
      "132009 only 1 interest rate 每年固定1%\n",
      "132015 only 1 interest rate 每年固定1.4%\n",
      "processing 360 items\n",
      "processing 370 items\n",
      "processing 380 items\n",
      "132011 only 1 interest rate 每年固定1%\n",
      "Finished processing 384 items\n"
     ]
    }
   ],
   "source": [
    "#data = get_dat()\n",
    "save_interest_rate(data)"
   ]
  },
  {
   "cell_type": "code",
   "execution_count": 66,
   "id": "ac8b344f-fb76-4bf7-bb35-952c560afc49",
   "metadata": {},
   "outputs": [
    {
     "name": "stdout",
     "output_type": "stream",
     "text": [
      "113569 2-4 第一年为 0.4%、第二年为 0.8%、第三年为 1%、第四年为 1.5%、第五年 为 2%、第六年为 3%\n"
     ]
    },
    {
     "data": {
      "text/plain": [
       "['0.4%', '0.8%', '1.5%']"
      ]
     },
     "execution_count": 66,
     "metadata": {},
     "output_type": "execute_result"
    }
   ],
   "source": [
    "get_interest_rate('113569')"
   ]
  },
  {
   "cell_type": "code",
   "execution_count": 97,
   "id": "494eca36-9838-4a1a-ba76-1b5a7fef797c",
   "metadata": {},
   "outputs": [],
   "source": [
    "detials_url = 'https://www.jisilu.cn/data/convert_bond_detail/'+'127035'\n",
    "detials_response = requests.get(detials_url)\n",
    "html = detials_response.content.decode(\"utf-8\")\n",
    "html = etree.HTML(html)\n",
    "interest_text = html.xpath('.//td[@id=\"cpn_desc\"]/text()')"
   ]
  },
  {
   "cell_type": "code",
   "execution_count": 100,
   "id": "6455532d-a62f-4d27-9f01-0204419e1b75",
   "metadata": {},
   "outputs": [
    {
     "data": {
      "text/plain": [
       "['0.6%', '0.8%', '1.5%', '3.0%']"
      ]
     },
     "execution_count": 100,
     "metadata": {},
     "output_type": "execute_result"
    }
   ],
   "source": [
    "pattern = re.compile(r'(?<!\\d|\\.)\\d+(?:\\.\\d+)?\\s?%')  #get proper format number\n",
    "interest = pattern.findall(interest_text[0])\n",
    "interest"
   ]
  },
  {
   "cell_type": "code",
   "execution_count": 94,
   "id": "a44ced86-4604-4fcf-acc8-f62a6be24afb",
   "metadata": {},
   "outputs": [
    {
     "data": {
      "text/plain": [
       "['0.50', '0.70 ', '1.00 ', '1.50', '2.50', '3.00']"
      ]
     },
     "execution_count": 94,
     "metadata": {},
     "output_type": "execute_result"
    }
   ],
   "source": [
    "interest2 = [rate.strip(\"?\\s%\") for rate in interest]\n",
    "interest2"
   ]
  },
  {
   "cell_type": "code",
   "execution_count": 99,
   "id": "6ee8149b-b307-4df5-a4fa-fe177557fcdc",
   "metadata": {},
   "outputs": [
    {
     "data": {
      "text/plain": [
       "['0.6', '0.8', '1.5', '3.0', '3.8']"
      ]
     },
     "execution_count": 99,
     "metadata": {},
     "output_type": "execute_result"
    }
   ],
   "source": [
    "pattern = re.compile(r'(?<!\\d|\\.)\\d+(?:\\.\\d+)?')  #get proper format number\n",
    "interest2 = pattern.findall(interest_text[0])\n",
    "interest2"
   ]
  },
  {
   "cell_type": "code",
   "execution_count": 56,
   "id": "a3eb8d0c-30aa-4691-838e-9db15130a0ca",
   "metadata": {},
   "outputs": [],
   "source": [
    "# Fill in your details here to be posted to the login form.\n",
    "payload = {\n",
    "    'user_name': 'a39856ed4377d1b92cffb0677febf5b8',\n",
    "    'password': 'ca5572b5ffe8c33746727709bc7d6c6f'\n",
    "}\n",
    "headers = {\n",
    "    \"User-Agent\": \"Mozilla/5.0 (Macintosh; Intel Mac OS X 10_15_3) AppleWebKit/537.36 (KHTML, like Gecko) Chrome/91.0.4472.114 Safari/537.36\",\n",
    "    #\"User-agent\": \"Mozilla/5.0 (X11; Linux x86_64) AppleWebKit/537.36 (KHTML, like Gecko) Chrome/51.0.2704.106 Safari/537.36 OPR/38.0.2220.41\",\n",
    "    \"Cookie\": \"kbzw__Session=l313fggdcjpnd7eineqilm6lf4; kbz_newcookie=1; kbzw_r_uname=ijayden; Hm_lvt_164fe01b1433a19b507595a43bf58262=1627073048,1627079966,1627115858,1627117055; Hm_lpvt_164fe01b1433a19b507595a43bf58262=1627118717\"\n",
    "}\n",
    "loginUrl=\"https://www.jisilu.cn/account/ajax/login_process/\"\n",
    "r = requests.post(loginUrl,data=payload)\n",
    "\n",
    "newUrl =\"https://www.jisilu.cn/data/cbnew/cb_list/?___jsl=LST___t=1584777951900\"\n",
    "#最简单的爬虫请求.也可以加上headers字段，防止部分网址的反爬虫机制\n",
    "response = requests.get(newUrl,cookies=r.cookies)\n",
    "data = response.content.decode(\"utf-8\")\n",
    "dat = json.loads(data)"
   ]
  }
 ],
 "metadata": {
  "kernelspec": {
   "display_name": "Python 3",
   "language": "python",
   "name": "python3"
  },
  "language_info": {
   "codemirror_mode": {
    "name": "ipython",
    "version": 3
   },
   "file_extension": ".py",
   "mimetype": "text/x-python",
   "name": "python",
   "nbconvert_exporter": "python",
   "pygments_lexer": "ipython3",
   "version": "3.9.5"
  }
 },
 "nbformat": 4,
 "nbformat_minor": 5
}
