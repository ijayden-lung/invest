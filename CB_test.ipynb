{
 "cells": [
  {
   "cell_type": "code",
   "execution_count": 3,
   "id": "18ca84dd-eca7-4f05-816f-a6b2245ec2a5",
   "metadata": {},
   "outputs": [],
   "source": [
    "# -*- coding:utf-8 -*-\n",
    "import json\n",
    "import requests\n",
    "import csv\n",
    "import re\n",
    "from lxml import etree\n",
    "from datetime import date,datetime\n",
    "import pandas as pd\n",
    "import math\n",
    "from copy import deepcopy\n",
    "import numpy as np\n",
    "import matplotlib.pyplot as plt"
   ]
  },
  {
   "cell_type": "code",
   "execution_count": null,
   "id": "72feca02-4d48-4719-8d40-84155b9df71c",
   "metadata": {},
   "outputs": [],
   "source": [
    "interest = html.xpath('.//td[@id=\"cpn_desc\"]/text()')\n",
    "interest"
   ]
  },
  {
   "cell_type": "code",
   "execution_count": null,
   "id": "d4eeaffb-c134-46a0-8282-524056e29d42",
   "metadata": {},
   "outputs": [],
   "source": [
    "cb1 = get_interest_rate('113049')"
   ]
  },
  {
   "cell_type": "code",
   "execution_count": null,
   "id": "dc3c56ed-10a8-4ba3-89ac-e9c81edd4907",
   "metadata": {},
   "outputs": [],
   "source": [
    "cb1"
   ]
  },
  {
   "cell_type": "code",
   "execution_count": null,
   "id": "0568acf5-3c14-4b80-8ad8-456994e3700c",
   "metadata": {},
   "outputs": [],
   "source": [
    "cb2 = get_interest_rate('120003')"
   ]
  },
  {
   "cell_type": "code",
   "execution_count": null,
   "id": "660840fd-b15c-424f-839d-71ed0e384b79",
   "metadata": {},
   "outputs": [],
   "source": [
    "cb3 = get_interest_rate('132018')"
   ]
  },
  {
   "cell_type": "code",
   "execution_count": null,
   "id": "07e18de9-9919-42bc-962b-0955d920e23f",
   "metadata": {},
   "outputs": [],
   "source": [
    "cb4 = get_interest_rate('128125')"
   ]
  },
  {
   "cell_type": "code",
   "execution_count": null,
   "id": "198fd262-8c28-48e4-bb0b-27561c0d27ef",
   "metadata": {},
   "outputs": [],
   "source": [
    "re.findall(r'(?<!\\d|\\.)\\d+(?:\\.\\d+)%', cb4[0])"
   ]
  },
  {
   "cell_type": "code",
   "execution_count": null,
   "id": "5f6e7eda-ddbf-4789-b815-13fd9032abda",
   "metadata": {},
   "outputs": [],
   "source": [
    "re.findall(r'(?<!\\d|\\.)\\d+(?:\\.\\d+)%', cb3[0])"
   ]
  },
  {
   "cell_type": "code",
   "execution_count": null,
   "id": "1c8e70f4-88d9-47b2-8cf9-ec2b167639a9",
   "metadata": {},
   "outputs": [],
   "source": [
    "re.findall(r'(?<!\\d|\\.)\\d+(?:\\.\\d+)%', cb2[0])"
   ]
  },
  {
   "cell_type": "code",
   "execution_count": null,
   "id": "a867bb69-4ae4-415a-acc1-67b09002a4ea",
   "metadata": {},
   "outputs": [],
   "source": [
    "re.findall(r'(?<!\\d|\\.)\\d+(?:\\.\\d+)%', cb1[0])"
   ]
  },
  {
   "cell_type": "code",
   "execution_count": null,
   "id": "7d9f4efc-0951-4f87-8736-7a89b2459734",
   "metadata": {
    "tags": []
   },
   "outputs": [],
   "source": [
    "#data = get_dat()\n",
    "save_interest_rate(data)"
   ]
  },
  {
   "cell_type": "code",
   "execution_count": null,
   "id": "ac8b344f-fb76-4bf7-bb35-952c560afc49",
   "metadata": {},
   "outputs": [],
   "source": [
    "get_interest_rate('113569')"
   ]
  },
  {
   "cell_type": "code",
   "execution_count": null,
   "id": "494eca36-9838-4a1a-ba76-1b5a7fef797c",
   "metadata": {},
   "outputs": [],
   "source": [
    "detials_url = 'https://www.jisilu.cn/data/convert_bond_detail/'+'127035'\n",
    "detials_response = requests.get(detials_url)\n",
    "html = detials_response.content.decode(\"utf-8\")\n",
    "html = etree.HTML(html)\n",
    "interest_text = html.xpath('.//td[@id=\"cpn_desc\"]/text()')"
   ]
  },
  {
   "cell_type": "code",
   "execution_count": null,
   "id": "6455532d-a62f-4d27-9f01-0204419e1b75",
   "metadata": {},
   "outputs": [],
   "source": [
    "pattern = re.compile(r'(?<!\\d|\\.)\\d+(?:\\.\\d+)?\\s?%')  #get proper format number\n",
    "interest = pattern.findall(interest_text[0])\n",
    "interest"
   ]
  },
  {
   "cell_type": "code",
   "execution_count": null,
   "id": "a44ced86-4604-4fcf-acc8-f62a6be24afb",
   "metadata": {},
   "outputs": [],
   "source": [
    "interest2 = [rate.strip(\"?\\s%\") for rate in interest]\n",
    "interest2"
   ]
  },
  {
   "cell_type": "code",
   "execution_count": null,
   "id": "6ee8149b-b307-4df5-a4fa-fe177557fcdc",
   "metadata": {},
   "outputs": [],
   "source": [
    "pattern = re.compile(r'(?<!\\d|\\.)\\d+(?:\\.\\d+)?')  #get proper format number\n",
    "interest2 = pattern.findall(interest_text[0])\n",
    "interest2"
   ]
  },
  {
   "cell_type": "code",
   "execution_count": 265,
   "id": "a3eb8d0c-30aa-4691-838e-9db15130a0ca",
   "metadata": {},
   "outputs": [],
   "source": [
    "# Fill in your details here to be posted to the login form.\n",
    "payload = {\n",
    "'user_name': 'a39856ed4377d1b92cffb0677febf5b8',\n",
    "'password': 'ca5572b5ffe8c33746727709bc7d6c6f'\n",
    "}\n",
    "headers = {\n",
    "\"User-Agent\": \"Mozilla/5.0 (Macintosh; Intel Mac OS X 10_15_3) AppleWebKit/537.36 (KHTML, like Gecko) Chrome/91.0.4472.114 Safari/537.36\",\n",
    "#\"User-agent\": \"Mozilla/5.0 (X11; Linux x86_64) AppleWebKit/537.36 (KHTML, like Gecko) Chrome/51.0.2704.106 Safari/537.36 OPR/38.0.2220.41\",\n",
    "\"Cookie\": \"kbzw__Session=l313fggdcjpnd7eineqilm6lf4; kbz_newcookie=1; kbzw_r_uname=ijayden; Hm_lvt_164fe01b1433a19b507595a43bf58262=1627073048,1627079966,1627115858,1627117055; Hm_lpvt_164fe01b1433a19b507595a43bf58262=1627118717\"\n",
    "}\n",
    "loginUrl=\"https://www.jisilu.cn/account/ajax/login_process/\"\n",
    "r = requests.post(loginUrl,data=payload)\n",
    "\n",
    "newUrl =\"https://www.jisilu.cn/data/cbnew/cb_list/?___jsl=LST___t=1584777951900\"\n",
    "#最简单的爬虫请求.也可以加上headers字段，防止部分网址的反爬虫机制\n",
    "response = requests.get(newUrl,cookies=r.cookies)\n",
    "data = response.content.decode(\"utf-8\")\n",
    "dat = json.loads(data)"
   ]
  },
  {
   "cell_type": "code",
   "execution_count": 268,
   "id": "c7ec51aa-8db2-4750-a088-38d71442846c",
   "metadata": {},
   "outputs": [
    {
     "data": {
      "text/plain": [
       "'113604'"
      ]
     },
     "execution_count": 268,
     "metadata": {},
     "output_type": "execute_result"
    }
   ],
   "source": [
    "dat['rows'][300]['id']"
   ]
  },
  {
   "cell_type": "code",
   "execution_count": 271,
   "id": "84b9afe2-044a-4777-a078-061e2e8ecae3",
   "metadata": {},
   "outputs": [
    {
     "name": "stdout",
     "output_type": "stream",
     "text": [
      "bond_id 113607\n",
      "bond_nm 伟20转债\n",
      "stock_id sh603568\n",
      "stock_nm 伟明环保\n",
      "btype C\n",
      "convert_price 21.71\n",
      "convert_price_valid_from 2021-07-06\n",
      "convert_dt 2021-05-06\n",
      "maturity_dt 2026-11-01\n",
      "next_put_dt 2024-11-01\n",
      "put_dt None\n",
      "put_notes None\n",
      "put_price 100.000\n",
      "put_inc_cpn_fl y\n",
      "put_convert_price_ratio 56.29\n",
      "put_count_days 30\n",
      "put_total_days 30\n",
      "put_real_days 0\n",
      "repo_discount_rt 0.00\n",
      "repo_valid_from None\n",
      "repo_valid_to None\n",
      "turnover_rt 3.87\n",
      "redeem_price 110.000\n",
      "redeem_inc_cpn_fl n\n",
      "redeem_price_ratio 130.000\n",
      "redeem_count_days 20\n",
      "redeem_total_days 30\n",
      "redeem_real_days 13\n",
      "redeem_dt None\n",
      "redeem_flag X\n",
      "orig_iss_amt 12.000\n",
      "curr_iss_amt 11.436\n",
      "rating_cd AA\n",
      "issuer_rating_cd AA\n",
      "guarantor 无担保\n",
      "ssc_dt None\n",
      "esc_dt None\n",
      "sc_notes None\n",
      "market_cd shmb\n",
      "force_redeem None\n",
      "real_force_redeem_price None\n",
      "convert_cd 113607\n",
      "repo_cd 113607\n",
      "ration 0.9540\n",
      "ration_cd 753568\n",
      "apply_cd 754568\n",
      "online_offline_ratio None\n",
      "qflag N\n",
      "qflag2 N\n",
      "ration_rt 91.110\n",
      "fund_rt buy\n",
      "margin_flg R\n",
      "lt_bps \n",
      "pb 5.88\n",
      "pb_flag N\n",
      "total_shares 1256542551.0\n",
      "float_shares 1256542551.0\n",
      "sqflg Y\n",
      "sprice 27.00\n",
      "svolume 9543.82\n",
      "sincrease_rt -2.35%\n",
      "qstatus 00\n",
      "bond_value buy\n",
      "bond_value2 buy\n",
      "volatility_rate buy\n",
      "last_time 14:36:07\n",
      "convert_value 124.37\n",
      "premium_rt 1.86%\n",
      "year_left 5.129\n",
      "ytm_rt -1.89%\n",
      "ytm_rt_tax -2.40%\n",
      "price 126.680\n",
      "full_price 126.680\n",
      "increase_rt -1.60%\n",
      "volume 5669.53\n",
      "convert_price_valid Y\n",
      "adj_scnt 0\n",
      "adj_cnt 0\n",
      "redeem_icon \n",
      "ref_yield_info -\n",
      "adjust_tip \n",
      "adjusted N\n",
      "option_tip -\n",
      "bond_value3 buy\n",
      "left_put_year -\n",
      "short_maturity_dt 26-11-01\n",
      "dblow 128.54\n",
      "force_redeem_price 28.22\n",
      "put_convert_price 15.20\n",
      "convert_amt_ratio 3.4%\n",
      "convert_amt_ratio2 3.4%\n",
      "convert_amt_ratio_tips 转债占流动市值比：3.4%\n",
      "转债占总市值比：3.4%\n",
      "stock_net_value 0.00\n",
      "stock_cd 603568\n",
      "pre_bond_id sh113607\n",
      "repo_valid 有效期：-；质押代码：113607\n",
      "convert_cd_tip 113607；2021-05-06 开始转股\n",
      "price_tips 全价：126.680 最后更新：14:36:07\n"
     ]
    }
   ],
   "source": [
    "for row in dat['rows']:\n",
    "    if row['id'] == '113607':\n",
    "        for key,val in row['cell'].items():\n",
    "            print(key,val)"
   ]
  },
  {
   "cell_type": "code",
   "execution_count": null,
   "id": "6c51d12b-02df-4e3c-a948-9a79cd85746b",
   "metadata": {},
   "outputs": [],
   "source": [
    "import numpy as np\n",
    "from scipy.optimize import curve_fit\n",
    "import matplotlib.pyplot as plt\n",
    "import scipy.stats as stats\n",
    "from mpl_toolkits.mplot3d import Axes3D\n",
    "def func1(x, a, b, c, d):\n",
    "    r =  a * np.exp(-((x[0] - b) ** 2 + (x[1] - d) ** 2) / (2 * c ** 2))\n",
    "    return r.ravel()\n",
    "\n",
    "# 生成原始数据\n",
    "x1 = np.linspace(0, 10, 10).reshape(1, -1)\n",
    "x2 = np.linspace(0, 10, 10).reshape(1, -1)\n",
    "x = np.append(x1, x2, axis=0)\n",
    "X, Y = np.meshgrid(x1, x2)\n",
    "XX = np.expand_dims(X, 0)\n",
    "YY = np.expand_dims(Y, 0)\n",
    "xx = np.append(XX, YY, axis=0)\n",
    "y = func1(xx, 10, 5, 2, 5)\n",
    "# 对原始数据增加噪声\n",
    "yn = y + 0.002 * np.random.normal(size=xx.shape[1] * xx.shape[2])\n",
    "\n",
    "# 使用curve_fit函数拟合噪声数据\n",
    "popt, pcov = curve_fit(func1, xx, yn)\n",
    "\n",
    "# popt返回最拟合给定的函数模型func的参数值\n",
    "print(popt)\n",
    "\n",
    "fig = plt.figure('拟合图')\n",
    "ax = Axes3D(fig)\n",
    "X, Y = np.meshgrid(x1, x2)\n",
    "XX = np.expand_dims(X, 0)\n",
    "YY = np.expand_dims(Y, 0)\n",
    "xx = np.append(XX, YY, axis=0)\n",
    "R = func1(xx, *popt)\n",
    "# R, _ = np.meshgrid(R, x1)\n",
    "# y = func1(xx, 10, 5, 2, 5)\n",
    "# # 对原始数据增加噪声\n",
    "# yn = y = 0.002 * np.random.normal(size=xx.shape[1] * xx.shape[2])\n",
    "R = R.reshape(10, 10)\n",
    "yn = yn.reshape(10, 10)\n",
    "ax.plot_surface(X, Y, R, rstride=1, cstride=1, cmap='rainbow')\n",
    "ax.plot_surface(X, Y, yn, rstride=1, cstride=1, color='red')\n",
    "\n",
    "plt.show()"
   ]
  },
  {
   "cell_type": "code",
   "execution_count": null,
   "id": "f8d12ffd-224d-44be-bae7-b544bebcb6bc",
   "metadata": {},
   "outputs": [],
   "source": [
    "x[0]"
   ]
  },
  {
   "cell_type": "code",
   "execution_count": null,
   "id": "8057c462-3973-4aba-a140-8b2cb74e9162",
   "metadata": {},
   "outputs": [],
   "source": [
    "x[1]"
   ]
  },
  {
   "cell_type": "code",
   "execution_count": null,
   "id": "63474449-2603-4eb7-b8b0-ea37d863ad58",
   "metadata": {},
   "outputs": [],
   "source": [
    "x.shape"
   ]
  },
  {
   "cell_type": "code",
   "execution_count": null,
   "id": "cf61a026-bdcc-40a4-875b-583b63e335cf",
   "metadata": {},
   "outputs": [],
   "source": [
    "yn.shape"
   ]
  },
  {
   "cell_type": "code",
   "execution_count": null,
   "id": "12a81b60-047d-453c-ab5e-5597f38dbba3",
   "metadata": {},
   "outputs": [],
   "source": [
    "y"
   ]
  },
  {
   "cell_type": "code",
   "execution_count": null,
   "id": "d4bd96ef-e575-430b-b240-7cf101bc44eb",
   "metadata": {},
   "outputs": [],
   "source": [
    "x = np.linspace(0,6)\n",
    "y1 = x**0.5\n",
    "y2 = x**0.25\n",
    "y3 = x**0.1"
   ]
  },
  {
   "cell_type": "code",
   "execution_count": null,
   "id": "877cc0c9-24f0-4868-92d5-7ed2fa412eb4",
   "metadata": {},
   "outputs": [],
   "source": [
    "plt.plot(x,y1,color='red')\n",
    "plt.plot(x,y2,color='skyblue')\n",
    "plt.plot(x,y3,color='green')\n",
    "plt.show()"
   ]
  },
  {
   "cell_type": "code",
   "execution_count": null,
   "id": "da407d90-83ba-4b3f-9fa0-100e4b128cbd",
   "metadata": {},
   "outputs": [],
   "source": [
    "11.9*6**0.25"
   ]
  },
  {
   "cell_type": "code",
   "execution_count": null,
   "id": "31263154-e9be-467a-a31a-6a0c0f76ff37",
   "metadata": {},
   "outputs": [],
   "source": [
    "5.2*6**0.5"
   ]
  },
  {
   "cell_type": "code",
   "execution_count": null,
   "id": "dd394f2c-fd67-4e9c-9fe8-8e54282712f5",
   "metadata": {},
   "outputs": [],
   "source": [
    "import tushare as ts"
   ]
  },
  {
   "cell_type": "code",
   "execution_count": null,
   "id": "0eb4c0e5-9e0b-47d1-b7ec-25e849e27011",
   "metadata": {},
   "outputs": [],
   "source": [
    "pro = ts.pro_api('c914778bc260d3911212f2a37620ffa89ca4706e44fd557673b509a2')"
   ]
  },
  {
   "cell_type": "code",
   "execution_count": null,
   "id": "53a1ff6d-8a44-46b2-b8bb-446d9831b7d8",
   "metadata": {},
   "outputs": [],
   "source": [
    "XSG_URL = '%sdatainterface.%s/EM_DataCenter/%s?type=FD&sty=BST&st=3&sr=true&fd=%s&stat=%s'\n",
    "XSG_COLS = ['id','code', 'name', 'date', 'count', 'ratio']\n",
    "ZF = '%s%s/tsdata/%s.csv'\n",
    "FORMAT = lambda x: '%.2f' % x\n",
    "P_TYPE = {'http': 'http://', 'ftp': 'ftp://'}\n",
    "DOMAINS = {'sina': 'sina.com.cn', 'sinahq': 'sinajs.cn',\n",
    "           'ifeng': 'ifeng.com', 'sf': 'finance.sina.com.cn',\n",
    "            'vsf': 'vip.stock.finance.sina.com.cn',\n",
    "            'idx': 'www.csindex.com.cn', '163': 'money.163.com',\n",
    "            'em': 'eastmoney.com', 'sseq': 'query.sse.com.cn',\n",
    "            'sse': 'www.sse.com.cn', 'szse': 'www.szse.cn',\n",
    "            'oss': 'file.tushare.org', 'idxip':'115.29.204.48',\n",
    "            'shibor': 'www.shibor.org', 'mbox':'www.cbooo.cn',\n",
    "            'tt': 'gtimg.cn', 'gw': 'gw.com.cn',\n",
    "            'v500': 'value500.com', 'sstar': 'stock.stockstar.co    m',\n",
    "            'dfcf': 'nufm.dfcfw.com'}\n",
    "\n",
    "PAGES = {'fd': 'index.phtml', 'dl': 'downxls.php', 'jv': 'json_v2.php',\n",
    "         'cpt': 'newFLJK.php', 'ids': 'newSinaHy.php', 'lnews':'rollnews_ch_out_interface.php',\n",
    "         'ntinfo':'vCB_BulletinGather.php', 'hs300b':'000300cons.xls',\n",
    "         'hs300w':'000300closeweight.xls','sz50b':'000016cons.xls',         \n",
    "         'dp':'all_fpya.php', '163dp':'fpyg.html',\n",
    "         'emxsg':'JS.aspx', '163fh':'jjcgph.php',\n",
    "         'newstock':'vRPD_NewStockIssue.php', 'zz500b':'000905cons.xls',\n",
    "         'zz500wt':'000905closeweight.xls',\n",
    "         't_ticks':'vMS_tradedetail.php', 'dw': 'downLoad.html',\n",
    "         'qmd':'queryMargin.do', 'szsefc':'ShowReport.szse',\n",
    "         'ssecq':'commonQuery.do', 'sinadd':'cn_bill_download.php', 'ids_sw':'SwHy.php',\n",
    "         'idx': 'index.php', 'index': 'index.html'}"
   ]
  },
  {
   "cell_type": "code",
   "execution_count": null,
   "id": "7774ed62-59af-44e6-8ce2-7501b603a57e",
   "metadata": {},
   "outputs": [],
   "source": [
    "year = datetime.today().year\n",
    "month = datetime.today().month\n",
    "year = 2022\n",
    "month = 2"
   ]
  },
  {
   "cell_type": "code",
   "execution_count": null,
   "id": "842faea1-8212-4621-80af-429b7b56cdc2",
   "metadata": {},
   "outputs": [],
   "source": [
    "request = requests.get(XSG_URL%(P_TYPE['http'], DOMAINS['em'],PAGES['emxsg'], year, month))"
   ]
  },
  {
   "cell_type": "code",
   "execution_count": null,
   "id": "cf3ab626-0240-459d-ac2b-89a4a6a77169",
   "metadata": {},
   "outputs": [],
   "source": [
    "def get_restricted_shares(stock_id):\n",
    "    url = 'http://datacenter-web.eastmoney.com/api/data/v1/get?callback=jQuery112305678710086023377_1630414549986&sortColumns=FREE_DATE&sortTypes=-1&pageSize=500&pageNumber=1&reportName=RPT_LIFT_STAGE&filter=(SECURITY_CODE=\"'+stock_id+'\")&columns=SECURITY_CODE,SECURITY_NAME_ABBR,FREE_DATE,CURRENT_FREE_SHARES,ABLE_FREE_SHARES,LIFT_MARKET_CAP,FREE_RATIO,NEW,B20_ADJCHRATE,A20_ADJCHRATE,FREE_SHARES_TYPE,TOTAL_RATIO,NON_FREE_SHARES,BATCH_HOLDER_NUM&source=WEB&client=WEB'\n",
    "    my_request = requests.get(url)\n",
    "    my_lines = my_request.content.decode(\"utf-8\")\n",
    "    p1 = re.compile(r'[(](.*)[)]',re.S)\n",
    "    my_json = re.findall(p1,my_lines)\n",
    "    dat = json.loads(my_json[0])\n",
    "    return pd.DataFrame.from_dict(dat['result']['data'])"
   ]
  },
  {
   "cell_type": "code",
   "execution_count": null,
   "id": "e7fbc602-ceb9-48ca-be62-cb39de925321",
   "metadata": {},
   "outputs": [],
   "source": [
    "restricted_df = get_restricted_shares('000001')"
   ]
  },
  {
   "cell_type": "code",
   "execution_count": null,
   "id": "c6db096b-7ab0-44ff-8599-33fe020ffc83",
   "metadata": {},
   "outputs": [],
   "source": [
    "restricted_df"
   ]
  },
  {
   "cell_type": "code",
   "execution_count": null,
   "id": "260ea77e-3a29-4680-ad9a-53ea5e51cea9",
   "metadata": {},
   "outputs": [],
   "source": [
    "restricted_df[restricted_df['FREE_SHARES_TYPE'].str.contains(\"增发\")]"
   ]
  },
  {
   "cell_type": "code",
   "execution_count": null,
   "id": "fa284fde-5ae7-405d-a194-fdfcb7918542",
   "metadata": {},
   "outputs": [],
   "source": [
    "request = requests.get(XSG_URL%(P_TYPE['http'], DOMAINS['em'],PAGES['emxsg'], year, month))"
   ]
  },
  {
   "cell_type": "code",
   "execution_count": null,
   "id": "0a014eef-7504-4ca6-b64f-5f248878a044",
   "metadata": {},
   "outputs": [],
   "source": [
    "json.loads(my_lines)"
   ]
  },
  {
   "cell_type": "code",
   "execution_count": null,
   "id": "91b12aa6-284e-45a4-ab82-d3376738ead4",
   "metadata": {},
   "outputs": [],
   "source": [
    "stock_id = '000538'\n",
    "r = requests.get('https://vip.stock.finance.sina.com.cn/corp/go.php/vISSUE_AddStock/stockid/'+stock_id+'.phtml')"
   ]
  },
  {
   "cell_type": "code",
   "execution_count": null,
   "id": "b9b72a37-a12d-4e87-98cc-804524d42fb0",
   "metadata": {},
   "outputs": [],
   "source": [
    "\n",
    "temp_df = pd.read_html(r.text)[12]\n",
    "if temp_df.at[0, 0] == '对不起，暂时没有相关增发记录':\n",
    "    print(f\"股票 {stock} 无增发记录\")\n",
    "big_df = pd.DataFrame()\n",
    "for i in range(int(len(temp_df.at[0, 1]) / 10)):\n",
    "    temp_df = pd.read_html(r.text)[13+i].iloc[:, 1]\n",
    "    big_df[temp_df.name.split(\" \")[1].split(\"：\")[1][:10]] = temp_df \n",
    "    big_df = big_df.T\n",
    "    #big_df.columns = [\"发行方式\", \"发行价格\", \"实际公司募集资金总额\", \"发行费用总额\", \"实际发行数量\"]"
   ]
  },
  {
   "cell_type": "code",
   "execution_count": null,
   "id": "98e6cf1a-b5e4-468f-a06b-f7569f9d3ca1",
   "metadata": {},
   "outputs": [],
   "source": [
    "big_df"
   ]
  },
  {
   "cell_type": "code",
   "execution_count": null,
   "id": "3854f976-49f7-41b2-b25d-a0158f282a75",
   "metadata": {},
   "outputs": [],
   "source": [
    "pd.read_html(r.text)[14].iloc[:,1]"
   ]
  },
  {
   "cell_type": "code",
   "execution_count": null,
   "id": "8b9d0efc-0f38-4c5b-b570-738cbb7954d6",
   "metadata": {},
   "outputs": [],
   "source": []
  },
  {
   "cell_type": "code",
   "execution_count": null,
   "id": "029659af-b837-4507-ae43-407d48720eb6",
   "metadata": {},
   "outputs": [],
   "source": [
    "r.text"
   ]
  },
  {
   "cell_type": "code",
   "execution_count": null,
   "id": "b823abca-a684-4763-b1eb-c0764c52b9c5",
   "metadata": {},
   "outputs": [],
   "source": [
    "XSG_URL%(P_TYPE['http'], DOMAINS['em'],PAGES['emxsg'], year, month)"
   ]
  },
  {
   "cell_type": "code",
   "execution_count": null,
   "id": "389d7859-bd85-41b7-8f97-a12c7a0ca50e",
   "metadata": {},
   "outputs": [],
   "source": [
    "lines = request.content.decode(\"utf-8\")\n",
    "#html = etree.HTML(html)\n",
    "#interest_text = html.xpath('.//td[@id=\"cpn_desc\"]/text()')"
   ]
  },
  {
   "cell_type": "code",
   "execution_count": null,
   "id": "87595420-155f-4ea6-b555-98b3cee7f2c9",
   "metadata": {},
   "outputs": [],
   "source": [
    "da = lines[3:len(lines)-3]\n",
    "list =  []\n",
    "for row in da.split('\",\"'):\n",
    "    list.append([data for data in row.split(',')])\n",
    "df = pd.DataFrame(list)\n",
    "df = df[[0,1, 3, 4, 5, 6]]\n",
    "for col in [5, 6]:\n",
    "    df[col] = df[col].astype(float)\n",
    "df[5] = df[5]/10000\n",
    "df[6] = df[6]*100\n",
    "df[5] = df[5].map(FORMAT)\n",
    "df[6] = df[6].map(FORMAT)\n",
    "df.columns = XSG_COLS"
   ]
  },
  {
   "cell_type": "code",
   "execution_count": null,
   "id": "7d213ca6-b4c8-48c4-913b-02cda7dc9af4",
   "metadata": {},
   "outputs": [],
   "source": [
    "df"
   ]
  },
  {
   "cell_type": "code",
   "execution_count": null,
   "id": "76060de9-3381-4966-93ce-cc942ab6f993",
   "metadata": {},
   "outputs": [],
   "source": [
    "df.loc[df['id'].str.startswith('1')]"
   ]
  },
  {
   "cell_type": "code",
   "execution_count": null,
   "id": "5ed1fb89-503b-43ee-af0c-f79890553b44",
   "metadata": {},
   "outputs": [],
   "source": [
    "df = pro.share_float(ts_code='300532.SZ')"
   ]
  },
  {
   "cell_type": "code",
   "execution_count": null,
   "id": "508c9527-8bc8-496a-8b3c-e9acf6c615e4",
   "metadata": {},
   "outputs": [],
   "source": [
    "df"
   ]
  },
  {
   "cell_type": "code",
   "execution_count": null,
   "id": "b410afd6-1bdd-43ae-a66b-45f8d2585835",
   "metadata": {},
   "outputs": [],
   "source": [
    "df = pro.share_float(ts_code='000157.SZ')"
   ]
  },
  {
   "cell_type": "code",
   "execution_count": null,
   "id": "309d58c5-844b-4641-a627-df9c1b728635",
   "metadata": {},
   "outputs": [],
   "source": [
    "df"
   ]
  },
  {
   "cell_type": "code",
   "execution_count": null,
   "id": "d13fccfd-6a24-4a40-ac12-b9c2325727df",
   "metadata": {},
   "outputs": [],
   "source": [
    "df['float_ratio'].sum()"
   ]
  },
  {
   "cell_type": "code",
   "execution_count": null,
   "id": "3e2a4a3d-337b-4c61-8683-528cbca96f82",
   "metadata": {},
   "outputs": [],
   "source": [
    "pro.share_float(ts_code='600562.SH')"
   ]
  },
  {
   "cell_type": "code",
   "execution_count": 301,
   "id": "6f9f7da6-bbb8-461c-855e-6980c025ffe9",
   "metadata": {},
   "outputs": [],
   "source": [
    "data1 = np.zeros([10,5,4])"
   ]
  },
  {
   "cell_type": "code",
   "execution_count": 302,
   "id": "5d8370cd-82eb-4168-a406-5d4f1429f990",
   "metadata": {},
   "outputs": [],
   "source": [
    "alphabet = np.array(['A', 'T', 'C', 'G'])\n",
    "sequence = ['A', 'T', 'C', 'G','T']\n",
    "seq = np.array(sequence, dtype = '|U1').reshape(-1,1)\n",
    "seq_data = (seq == alphabet).astype(np.float32)"
   ]
  },
  {
   "cell_type": "code",
   "execution_count": 303,
   "id": "1cb8bf95-78b2-425b-9d72-7c127d5205d7",
   "metadata": {},
   "outputs": [
    {
     "data": {
      "text/plain": [
       "array([[1., 0., 0., 0.],\n",
       "       [0., 1., 0., 0.],\n",
       "       [0., 0., 1., 0.],\n",
       "       [0., 0., 0., 1.],\n",
       "       [0., 1., 0., 0.]], dtype=float32)"
      ]
     },
     "execution_count": 303,
     "metadata": {},
     "output_type": "execute_result"
    }
   ],
   "source": [
    "seq_data"
   ]
  },
  {
   "cell_type": "code",
   "execution_count": 304,
   "id": "762a6c00-c0c4-40e0-a480-6e32fdcbe787",
   "metadata": {},
   "outputs": [],
   "source": [
    "data1[0,:,:] = seq_data"
   ]
  },
  {
   "cell_type": "code",
   "execution_count": 305,
   "id": "ce9c086f-e302-4ccf-8169-b936621de692",
   "metadata": {},
   "outputs": [],
   "source": [
    "sequence = ['T', 'C', 'G', 'A','T']\n",
    "seq = np.array(sequence, dtype = '|U1').reshape(-1,1)\n",
    "seq_data = (seq == alphabet).astype(np.float32)"
   ]
  },
  {
   "cell_type": "code",
   "execution_count": 338,
   "id": "6c974be4-6991-4ace-9763-741535629493",
   "metadata": {},
   "outputs": [],
   "source": [
    "complement = {'A':'T','T':'A','C':'G','G':'C'}"
   ]
  },
  {
   "cell_type": "code",
   "execution_count": 339,
   "id": "f2f7d538-37af-4079-88cc-d4f0ede6fd4b",
   "metadata": {},
   "outputs": [],
   "source": [
    "newseq = [complement[base] for base in sequence]\n",
    "newseq.reverse()"
   ]
  },
  {
   "cell_type": "code",
   "execution_count": 340,
   "id": "21bb2428-86d4-4a30-a962-1cb3efa11c95",
   "metadata": {},
   "outputs": [
    {
     "data": {
      "text/plain": [
       "['A', 'T', 'C', 'G', 'A']"
      ]
     },
     "execution_count": 340,
     "metadata": {},
     "output_type": "execute_result"
    }
   ],
   "source": [
    "newseq"
   ]
  },
  {
   "cell_type": "code",
   "execution_count": 306,
   "id": "f7841150-871a-4337-a810-5cecbd87484c",
   "metadata": {},
   "outputs": [],
   "source": [
    "data1[1,:,:] = seq_data"
   ]
  },
  {
   "cell_type": "code",
   "execution_count": 307,
   "id": "8df788a7-6afb-4edf-8195-ba56486abd62",
   "metadata": {},
   "outputs": [
    {
     "data": {
      "text/plain": [
       "array([[[1., 0., 0., 0.],\n",
       "        [0., 1., 0., 0.],\n",
       "        [0., 0., 1., 0.],\n",
       "        [0., 0., 0., 1.],\n",
       "        [0., 1., 0., 0.]],\n",
       "\n",
       "       [[0., 1., 0., 0.],\n",
       "        [0., 0., 1., 0.],\n",
       "        [0., 0., 0., 1.],\n",
       "        [1., 0., 0., 0.],\n",
       "        [0., 1., 0., 0.]],\n",
       "\n",
       "       [[0., 0., 0., 0.],\n",
       "        [0., 0., 0., 0.],\n",
       "        [0., 0., 0., 0.],\n",
       "        [0., 0., 0., 0.],\n",
       "        [0., 0., 0., 0.]],\n",
       "\n",
       "       [[0., 0., 0., 0.],\n",
       "        [0., 0., 0., 0.],\n",
       "        [0., 0., 0., 0.],\n",
       "        [0., 0., 0., 0.],\n",
       "        [0., 0., 0., 0.]],\n",
       "\n",
       "       [[0., 0., 0., 0.],\n",
       "        [0., 0., 0., 0.],\n",
       "        [0., 0., 0., 0.],\n",
       "        [0., 0., 0., 0.],\n",
       "        [0., 0., 0., 0.]],\n",
       "\n",
       "       [[0., 0., 0., 0.],\n",
       "        [0., 0., 0., 0.],\n",
       "        [0., 0., 0., 0.],\n",
       "        [0., 0., 0., 0.],\n",
       "        [0., 0., 0., 0.]],\n",
       "\n",
       "       [[0., 0., 0., 0.],\n",
       "        [0., 0., 0., 0.],\n",
       "        [0., 0., 0., 0.],\n",
       "        [0., 0., 0., 0.],\n",
       "        [0., 0., 0., 0.]],\n",
       "\n",
       "       [[0., 0., 0., 0.],\n",
       "        [0., 0., 0., 0.],\n",
       "        [0., 0., 0., 0.],\n",
       "        [0., 0., 0., 0.],\n",
       "        [0., 0., 0., 0.]],\n",
       "\n",
       "       [[0., 0., 0., 0.],\n",
       "        [0., 0., 0., 0.],\n",
       "        [0., 0., 0., 0.],\n",
       "        [0., 0., 0., 0.],\n",
       "        [0., 0., 0., 0.]],\n",
       "\n",
       "       [[0., 0., 0., 0.],\n",
       "        [0., 0., 0., 0.],\n",
       "        [0., 0., 0., 0.],\n",
       "        [0., 0., 0., 0.],\n",
       "        [0., 0., 0., 0.]]])"
      ]
     },
     "execution_count": 307,
     "metadata": {},
     "output_type": "execute_result"
    }
   ],
   "source": [
    "data1"
   ]
  },
  {
   "cell_type": "code",
   "execution_count": 309,
   "id": "771bf9a3-53db-4f74-9b84-2c556c2e8430",
   "metadata": {},
   "outputs": [
    {
     "data": {
      "text/plain": [
       "array([[[1., 0., 0., 0.],\n",
       "        [0., 1., 0., 0.],\n",
       "        [0., 0., 1., 0.],\n",
       "        [0., 0., 0., 1.],\n",
       "        [0., 1., 0., 0.]],\n",
       "\n",
       "       [[0., 1., 0., 0.],\n",
       "        [0., 0., 1., 0.],\n",
       "        [0., 0., 0., 1.],\n",
       "        [1., 0., 0., 0.],\n",
       "        [0., 1., 0., 0.]]])"
      ]
     },
     "execution_count": 309,
     "metadata": {},
     "output_type": "execute_result"
    }
   ],
   "source": [
    "bl = [True,True,False,False,False,False,False,False,False,False]\n",
    "bl2 = [1,1,0,0,0,0,0,0,0,0]\n",
    "data1[bl]"
   ]
  },
  {
   "cell_type": "code",
   "execution_count": 310,
   "id": "99a0363d-5a78-4739-8b0a-06e1b9d18c69",
   "metadata": {},
   "outputs": [
    {
     "data": {
      "text/plain": [
       "array([[[0., 1., 0., 0.],\n",
       "        [0., 0., 1., 0.],\n",
       "        [0., 0., 0., 1.],\n",
       "        [1., 0., 0., 0.],\n",
       "        [0., 1., 0., 0.]],\n",
       "\n",
       "       [[0., 1., 0., 0.],\n",
       "        [0., 0., 1., 0.],\n",
       "        [0., 0., 0., 1.],\n",
       "        [1., 0., 0., 0.],\n",
       "        [0., 1., 0., 0.]],\n",
       "\n",
       "       [[1., 0., 0., 0.],\n",
       "        [0., 1., 0., 0.],\n",
       "        [0., 0., 1., 0.],\n",
       "        [0., 0., 0., 1.],\n",
       "        [0., 1., 0., 0.]],\n",
       "\n",
       "       [[1., 0., 0., 0.],\n",
       "        [0., 1., 0., 0.],\n",
       "        [0., 0., 1., 0.],\n",
       "        [0., 0., 0., 1.],\n",
       "        [0., 1., 0., 0.]],\n",
       "\n",
       "       [[1., 0., 0., 0.],\n",
       "        [0., 1., 0., 0.],\n",
       "        [0., 0., 1., 0.],\n",
       "        [0., 0., 0., 1.],\n",
       "        [0., 1., 0., 0.]],\n",
       "\n",
       "       [[1., 0., 0., 0.],\n",
       "        [0., 1., 0., 0.],\n",
       "        [0., 0., 1., 0.],\n",
       "        [0., 0., 0., 1.],\n",
       "        [0., 1., 0., 0.]],\n",
       "\n",
       "       [[1., 0., 0., 0.],\n",
       "        [0., 1., 0., 0.],\n",
       "        [0., 0., 1., 0.],\n",
       "        [0., 0., 0., 1.],\n",
       "        [0., 1., 0., 0.]],\n",
       "\n",
       "       [[1., 0., 0., 0.],\n",
       "        [0., 1., 0., 0.],\n",
       "        [0., 0., 1., 0.],\n",
       "        [0., 0., 0., 1.],\n",
       "        [0., 1., 0., 0.]],\n",
       "\n",
       "       [[1., 0., 0., 0.],\n",
       "        [0., 1., 0., 0.],\n",
       "        [0., 0., 1., 0.],\n",
       "        [0., 0., 0., 1.],\n",
       "        [0., 1., 0., 0.]],\n",
       "\n",
       "       [[1., 0., 0., 0.],\n",
       "        [0., 1., 0., 0.],\n",
       "        [0., 0., 1., 0.],\n",
       "        [0., 0., 0., 1.],\n",
       "        [0., 1., 0., 0.]]])"
      ]
     },
     "execution_count": 310,
     "metadata": {},
     "output_type": "execute_result"
    }
   ],
   "source": [
    "data1[bl2]"
   ]
  },
  {
   "cell_type": "code",
   "execution_count": 313,
   "id": "546e4c96-8ff7-4946-8e1f-a8f505379b37",
   "metadata": {},
   "outputs": [],
   "source": [
    "bl3 = np.zeros(10,dtype=bool)"
   ]
  },
  {
   "cell_type": "code",
   "execution_count": 314,
   "id": "66891922-104b-4c23-a385-c593e24d0fee",
   "metadata": {},
   "outputs": [],
   "source": [
    "bl3[:2] = True"
   ]
  },
  {
   "cell_type": "code",
   "execution_count": 320,
   "id": "f8eed160-4580-46de-8540-e867b2d1feb1",
   "metadata": {},
   "outputs": [],
   "source": [
    "data1 = data1[bl3]"
   ]
  },
  {
   "cell_type": "code",
   "execution_count": 321,
   "id": "73267a86-b1a3-4145-9b2e-fc30a7eead33",
   "metadata": {},
   "outputs": [
    {
     "data": {
      "text/plain": [
       "array([[[1., 0., 0., 0.],\n",
       "        [0., 1., 0., 0.],\n",
       "        [0., 0., 1., 0.],\n",
       "        [0., 0., 0., 1.],\n",
       "        [0., 1., 0., 0.]],\n",
       "\n",
       "       [[0., 1., 0., 0.],\n",
       "        [0., 0., 1., 0.],\n",
       "        [0., 0., 0., 1.],\n",
       "        [1., 0., 0., 0.],\n",
       "        [0., 1., 0., 0.]]])"
      ]
     },
     "execution_count": 321,
     "metadata": {},
     "output_type": "execute_result"
    }
   ],
   "source": [
    "data2"
   ]
  },
  {
   "cell_type": "code",
   "execution_count": 322,
   "id": "d0bc5102-513b-44b8-9973-ad059062bf25",
   "metadata": {},
   "outputs": [
    {
     "data": {
      "text/plain": [
       "array([[[1., 0., 0., 0.],\n",
       "        [0., 1., 0., 0.],\n",
       "        [0., 0., 1., 0.],\n",
       "        [0., 0., 0., 1.],\n",
       "        [0., 1., 0., 0.]],\n",
       "\n",
       "       [[0., 1., 0., 0.],\n",
       "        [0., 0., 1., 0.],\n",
       "        [0., 0., 0., 1.],\n",
       "        [1., 0., 0., 0.],\n",
       "        [0., 1., 0., 0.]]])"
      ]
     },
     "execution_count": 322,
     "metadata": {},
     "output_type": "execute_result"
    }
   ],
   "source": [
    "data1"
   ]
  },
  {
   "cell_type": "code",
   "execution_count": 323,
   "id": "76cfafa4-a179-429f-94ce-6492e4b999bf",
   "metadata": {},
   "outputs": [
    {
     "data": {
      "text/plain": [
       "(2, 5, 4)"
      ]
     },
     "execution_count": 323,
     "metadata": {},
     "output_type": "execute_result"
    }
   ],
   "source": [
    "data1.shape"
   ]
  },
  {
   "cell_type": "code",
   "execution_count": 326,
   "id": "aefd04c4-2dc9-41a2-b0c4-bbefbc0be27c",
   "metadata": {},
   "outputs": [
    {
     "data": {
      "text/plain": [
       "array([None, None, None, None, None, None, None, None, None, None],\n",
       "      dtype=object)"
      ]
     },
     "execution_count": 326,
     "metadata": {},
     "output_type": "execute_result"
    }
   ],
   "source": [
    "np.empty(10,dtype='object')"
   ]
  },
  {
   "cell_type": "code",
   "execution_count": 336,
   "id": "42797266-a113-46db-a686-227fe9a1559f",
   "metadata": {},
   "outputs": [
    {
     "data": {
      "text/plain": [
       "array([[ True],\n",
       "       [ True],\n",
       "       [False],\n",
       "       [False],\n",
       "       [False],\n",
       "       [False],\n",
       "       [False],\n",
       "       [False],\n",
       "       [False],\n",
       "       [False]])"
      ]
     },
     "execution_count": 336,
     "metadata": {},
     "output_type": "execute_result"
    }
   ],
   "source": [
    "bl3.reshape([-1,1])"
   ]
  },
  {
   "cell_type": "code",
   "execution_count": 333,
   "id": "5fb639d0-2e70-4d6c-ae91-30336cba7e9f",
   "metadata": {},
   "outputs": [
    {
     "data": {
      "text/plain": [
       "(10,)"
      ]
     },
     "execution_count": 333,
     "metadata": {},
     "output_type": "execute_result"
    }
   ],
   "source": [
    "bl3.shape"
   ]
  },
  {
   "cell_type": "code",
   "execution_count": 337,
   "id": "5b8cf86e-5d2b-4e99-8f93-9fa1d894ff58",
   "metadata": {},
   "outputs": [
    {
     "data": {
      "text/plain": [
       "array([ True,  True, False, False, False, False, False, False, False,\n",
       "       False])"
      ]
     },
     "execution_count": 337,
     "metadata": {},
     "output_type": "execute_result"
    }
   ],
   "source": [
    "bl3"
   ]
  },
  {
   "cell_type": "code",
   "execution_count": 344,
   "id": "d304f709-0a12-4085-9188-2be95e2e07da",
   "metadata": {},
   "outputs": [
    {
     "data": {
      "text/plain": [
       "array([False, False, False, False, False, False, False, False,  True,\n",
       "        True])"
      ]
     },
     "execution_count": 344,
     "metadata": {},
     "output_type": "execute_result"
    }
   ],
   "source": [
    "bl3[::-1]"
   ]
  },
  {
   "cell_type": "code",
   "execution_count": 346,
   "id": "9654b232-e15e-4181-87c9-45b0328915c1",
   "metadata": {},
   "outputs": [],
   "source": [
    "x = np.array(newseq)"
   ]
  },
  {
   "cell_type": "code",
   "execution_count": 347,
   "id": "57e52e87-de57-4409-aefe-a479892a025b",
   "metadata": {},
   "outputs": [
    {
     "data": {
      "text/plain": [
       "array(['A', 'T', 'C', 'G', 'A'], dtype='<U1')"
      ]
     },
     "execution_count": 347,
     "metadata": {},
     "output_type": "execute_result"
    }
   ],
   "source": [
    "x"
   ]
  },
  {
   "cell_type": "code",
   "execution_count": 353,
   "id": "2afd6101-a4c0-495f-8daa-d5541dbd7ae1",
   "metadata": {},
   "outputs": [],
   "source": [
    "x = x[::-1]"
   ]
  },
  {
   "cell_type": "code",
   "execution_count": 354,
   "id": "12a6986b-1a10-4178-92ec-6461daa02c9b",
   "metadata": {},
   "outputs": [
    {
     "data": {
      "text/plain": [
       "array(['A', 'G', 'C', 'T', 'A'], dtype='<U1')"
      ]
     },
     "execution_count": 354,
     "metadata": {},
     "output_type": "execute_result"
    }
   ],
   "source": [
    "x"
   ]
  },
  {
   "cell_type": "code",
   "execution_count": null,
   "id": "ce594678-89b2-4b4b-8213-797336d5dbbd",
   "metadata": {},
   "outputs": [],
   "source": []
  }
 ],
 "metadata": {
  "kernelspec": {
   "display_name": "Python 3",
   "language": "python",
   "name": "python3"
  },
  "language_info": {
   "codemirror_mode": {
    "name": "ipython",
    "version": 3
   },
   "file_extension": ".py",
   "mimetype": "text/x-python",
   "name": "python",
   "nbconvert_exporter": "python",
   "pygments_lexer": "ipython3",
   "version": "3.9.5"
  }
 },
 "nbformat": 4,
 "nbformat_minor": 5
}
